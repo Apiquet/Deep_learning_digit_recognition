{
 "cells": [
  {
   "cell_type": "code",
   "execution_count": 30,
   "metadata": {},
   "outputs": [],
   "source": [
    "import torch\n",
    "import datetime\n",
    "import math\n",
    "import matplotlib.pyplot as plt\n",
    "from torch import optim\n",
    "from torch import Tensor\n",
    "from torch.autograd import Variable\n",
    "from torch import nn\n",
    "from torch.nn import functional as F\n",
    "import dlc_practical_prologue \n",
    "import warnings\n",
    "warnings.filterwarnings('ignore')     \n",
    "size=1000;\n",
    "train_input, train_target, train_classes, test_input, test_target, test_classes = \\\n",
    "    dlc_practical_prologue.generate_pair_sets(size)\n",
    "train_input, train_target, train_classes = Variable(train_input), Variable(train_target), Variable((train_classes))\n",
    "test_input, test_target, test_classes = Variable(test_input), Variable(test_target), Variable(test_classes)"
   ]
  },
  {
   "cell_type": "code",
   "execution_count": 31,
   "metadata": {},
   "outputs": [],
   "source": [
    "test_input_10 = torch.Tensor(10, 2*1000, 14*14)\n",
    "test_target_10 = torch.Tensor(10, 1000)\n",
    "test_classes_10 = torch.Tensor(10, 2*1000)\n",
    "for i in range(1,10):\n",
    "    train_input, train_target, train_classes, test_input, test_target, test_classes = \\\n",
    "    dlc_practical_prologue.generate_pair_sets(size)\n",
    "    test_input, test_target, test_classes = Variable(test_input), Variable(test_target), Variable(test_classes)\n",
    "    test_input_10[i,:,:] = test_input.reshape([2000,196])\n",
    "    test_target_10[i,:] = test_target\n",
    "    test_classes_10[i,:] = test_classes.reshape([2000])\n",
    "my_train_input = train_input.reshape([2000,196])\n",
    "my_train_classes = train_classes.reshape([2000])"
   ]
  },
  {
   "cell_type": "code",
   "execution_count": 3,
   "metadata": {},
   "outputs": [
    {
     "data": {
      "image/png": "[encoded data removed]",
      "text/plain": [
       "<Figure size 432x288 with 6 Axes>"
      ]
     },
     "metadata": {},
     "output_type": "display_data"
    }
   ],
   "source": [
    "import matplotlib.pyplot as plt\n",
    "\n",
    "fig = plt.figure()\n",
    "for i in range(6):\n",
    "  plt.subplot(2,3,i+1)\n",
    "  plt.imshow(test_input[i][0], cmap='gray', interpolation='none')\n",
    "  plt.title(\"Value: {}\".format(test_classes[i][0]))  \n",
    "  plt.tight_layout()\n",
    "  plt.xticks([])\n",
    "  plt.yticks([])"
   ]
  },
  {
   "cell_type": "code",
   "execution_count": 4,
   "metadata": {},
   "outputs": [
    {
     "data": {
      "image/png": "[encoded data removed]",
      "text/plain": [
       "<Figure size 432x288 with 6 Axes>"
      ]
     },
     "metadata": {},
     "output_type": "display_data"
    }
   ],
   "source": [
    "for i in range(6):\n",
    "  plt.subplot(2,3,i+1)\n",
    "  plt.imshow(test_input[i][1], cmap='gray', interpolation='none')\n",
    "  plt.title(\"Value: {}\".format(test_classes[i][1]))  \n",
    "  plt.tight_layout()\n",
    "  plt.xticks([])\n",
    "  plt.yticks([])"
   ]
  },
  {
   "cell_type": "markdown",
   "metadata": {},
   "source": [
    "# First neural net\n",
    "Train the model on all the 2000 images in train_input"
   ]
  },
  {
   "cell_type": "code",
   "execution_count": 13,
   "metadata": {},
   "outputs": [],
   "source": [
    "# device\n",
    "device = torch.device('cuda' if torch.cuda.is_available() else 'cpu')\n",
    "\n",
    "# number of epoch\n",
    "num_epochs = 25\n",
    "# batch size to compute mini-batch\n",
    "batch_size = 100\n",
    "# number of pixels in the image \n",
    "input_size = 196\n",
    "# number of possible digit: 0 to 9 \n",
    "num_class = 10\n",
    "# small step to find a minima\n",
    "learning_rate = 0.004\n",
    "# hidden size\n",
    "hidden_size = 100\n",
    "\n",
    "# Fully connected neural network with one hidden layer\n",
    "class NeuralNet(nn.Module):\n",
    "    def __init__(self, input_size, hidden_size, num_class, dropout_pkeep):\n",
    "        super(NeuralNet, self).__init__()\n",
    "        self.layer1 = nn.Linear(input_size, hidden_size) \n",
    "        self.relu = nn.ReLU()\n",
    "        self.layer2 = nn.Linear(hidden_size, hidden_size)  \n",
    "        self.layer3 = nn.Linear(hidden_size, num_class) \n",
    "        self.dropout = nn.Dropout(dropout_pkeep) \n",
    "    \n",
    "    def forward(self, x):\n",
    "        outputs = self.layer1(x)\n",
    "        outputs = self.relu(outputs)\n",
    "        outputs = self.layer2(outputs)\n",
    "        outputs = self.relu(outputs)\n",
    "        outputs = self.layer3(outputs)\n",
    "        return outputs"
   ]
  },
  {
   "cell_type": "code",
   "execution_count": 37,
   "metadata": {},
   "outputs": [],
   "source": [
    "def train_model(model_, my_train_input_, my_train_classes_, criterion_, optimizer_,num_epochs_,batch_size_,learning_rate_decay):\n",
    "    start_time = datetime.datetime.now()\n",
    "    train_error = []\n",
    "    test_error = []\n",
    "    # train function\n",
    "    if learning_rate_decay:\n",
    "        lambda_ = lambda epoch: 0.8 ** epoch\n",
    "        scheduler = torch.optim.lr_scheduler.LambdaLR(optimizer_, lr_lambda=lambda_)\n",
    "    for epoch in range(1, num_epochs_+1):\n",
    "        for i in range(int(len(my_train_input_)/batch_size_)):  \n",
    "            # Move tensors to the configured device\n",
    "            images = my_train_input_.narrow(0,i*batch_size_,batch_size_).to(device)\n",
    "            labels = my_train_classes_.narrow(0,i*batch_size_,batch_size_).to(device)\n",
    "\n",
    "            # Forward pass\n",
    "            outputs = model_(images)\n",
    "            loss = criterion_(outputs, labels)\n",
    "\n",
    "            # Backward and optimize\n",
    "            optimizer_.zero_grad()\n",
    "            loss.backward()\n",
    "            optimizer_.step()\n",
    "\n",
    "        if learning_rate_decay:\n",
    "            scheduler.step()\n",
    "        train_error.append(test_accuracy(model_, my_train_input_, my_train_classes_))\n",
    "        test_ = []\n",
    "        for i in range(1,10):\n",
    "            test_.append(test_accuracy(model_, test_input_10[i,:,:], test_classes_10[i,:]))\n",
    "        test_error.append(sum(test_) / len(test_))\n",
    "    end_time = datetime.datetime.now()\n",
    "    training_time = end_time - start_time\n",
    "    print ('Loss: {:.4f} on epoch: {}, train error: {:.5f}, avg test error on 10 different samples: {:.5f}'.format(loss.item(),epoch,train_error[-1],test_error[-1]))\n",
    "    return train_error, test_error, training_time"
   ]
  },
  {
   "cell_type": "code",
   "execution_count": 7,
   "metadata": {},
   "outputs": [],
   "source": [
    "def test_accuracy(model_, my_test_input_, my_test_classes_):\n",
    "    total = my_test_input_.size(0)\n",
    "    outputs = model_(my_test_input_)\n",
    "    _, predictions = torch.max(outputs.data, 1)\n",
    "    well_predicted_count = (predictions.long() == my_test_classes_.long()).sum().item()\n",
    "\n",
    "    return 1 - well_predicted_count / total"
   ]
  },
  {
   "cell_type": "markdown",
   "metadata": {},
   "source": [
    "# Testing influence of hidden size"
   ]
  },
  {
   "cell_type": "code",
   "execution_count": 47,
   "metadata": {},
   "outputs": [
    {
     "name": "stdout",
     "output_type": "stream",
     "text": [
      "Hidden size = 10\n",
      "Loss: 1.0622 on epoch: 25, train error: 0.35150, avg test error on 10 different samples: 0.38317\n",
      "Hidden size = 50\n",
      "Loss: 0.0489 on epoch: 25, train error: 0.00900, avg test error on 10 different samples: 0.10083\n",
      "Hidden size = 100\n",
      "Loss: 0.0075 on epoch: 25, train error: 0.00000, avg test error on 10 different samples: 0.07544\n",
      "Hidden size = 200\n",
      "Loss: 0.0045 on epoch: 25, train error: 0.00000, avg test error on 10 different samples: 0.07006\n",
      "Hidden size = 500\n",
      "Loss: 0.0040 on epoch: 25, train error: 0.00000, avg test error on 10 different samples: 0.06378\n",
      "Hidden size = 1000\n",
      "Loss: 0.0023 on epoch: 25, train error: 0.00000, avg test error on 10 different samples: 0.06439\n",
      "Hidden size = 2000\n"
     ]
    },
    {
     "ename": "KeyboardInterrupt",
     "evalue": "",
     "output_type": "error",
     "traceback": [
      "\u001b[1;31m---------------------------------------------------------------------------\u001b[0m",
      "\u001b[1;31mKeyboardInterrupt\u001b[0m                         Traceback (most recent call last)",
      "\u001b[1;32m<ipython-input-47-ba45d924d897>\u001b[0m in \u001b[0;36m<module>\u001b[1;34m()\u001b[0m\n\u001b[0;32m     11\u001b[0m     \u001b[0mcriterion\u001b[0m \u001b[1;33m=\u001b[0m \u001b[0mnn\u001b[0m\u001b[1;33m.\u001b[0m\u001b[0mCrossEntropyLoss\u001b[0m\u001b[1;33m(\u001b[0m\u001b[1;33m)\u001b[0m\u001b[1;33m\u001b[0m\u001b[0m\n\u001b[0;32m     12\u001b[0m     \u001b[0moptimizer\u001b[0m \u001b[1;33m=\u001b[0m \u001b[0mtorch\u001b[0m\u001b[1;33m.\u001b[0m\u001b[0moptim\u001b[0m\u001b[1;33m.\u001b[0m\u001b[0mSGD\u001b[0m\u001b[1;33m(\u001b[0m\u001b[0mmodel\u001b[0m\u001b[1;33m.\u001b[0m\u001b[0mparameters\u001b[0m\u001b[1;33m(\u001b[0m\u001b[1;33m)\u001b[0m\u001b[1;33m,\u001b[0m \u001b[0mlr\u001b[0m\u001b[1;33m=\u001b[0m\u001b[0mlearning_rate\u001b[0m\u001b[1;33m)\u001b[0m\u001b[1;33m\u001b[0m\u001b[0m\n\u001b[1;32m---> 13\u001b[1;33m     \u001b[0mtrain_error_HS\u001b[0m\u001b[1;33m[\u001b[0m\u001b[0midx\u001b[0m\u001b[1;33m]\u001b[0m\u001b[1;33m,\u001b[0m \u001b[0mtest_error_HS\u001b[0m\u001b[1;33m[\u001b[0m\u001b[0midx\u001b[0m\u001b[1;33m]\u001b[0m\u001b[1;33m,\u001b[0m \u001b[0mtrain_time_HS\u001b[0m\u001b[1;33m[\u001b[0m\u001b[0midx\u001b[0m\u001b[1;33m]\u001b[0m \u001b[1;33m=\u001b[0m \u001b[0mtrain_model\u001b[0m\u001b[1;33m(\u001b[0m\u001b[0mmodel\u001b[0m\u001b[1;33m,\u001b[0m \u001b[0mmy_train_input\u001b[0m\u001b[1;33m,\u001b[0m \u001b[0mmy_train_classes\u001b[0m\u001b[1;33m,\u001b[0m \u001b[0mcriterion\u001b[0m\u001b[1;33m,\u001b[0m \u001b[0moptimizer\u001b[0m\u001b[1;33m,\u001b[0m\u001b[0mnum_epochs\u001b[0m\u001b[1;33m,\u001b[0m\u001b[0mbatch_size\u001b[0m\u001b[1;33m,\u001b[0m\u001b[0mLRD\u001b[0m\u001b[1;33m)\u001b[0m\u001b[1;33m\u001b[0m\u001b[0m\n\u001b[0m\u001b[0;32m     14\u001b[0m     \u001b[0midx\u001b[0m \u001b[1;33m+=\u001b[0m \u001b[1;36m1\u001b[0m\u001b[1;33m\u001b[0m\u001b[0m\n",
      "\u001b[1;32m<ipython-input-37-6a708498546a>\u001b[0m in \u001b[0;36mtrain_model\u001b[1;34m(model_, my_train_input_, my_train_classes_, criterion_, optimizer_, num_epochs_, batch_size_, learning_rate_decay)\u001b[0m\n\u001b[0;32m     27\u001b[0m         \u001b[0mtest_\u001b[0m \u001b[1;33m=\u001b[0m \u001b[1;33m[\u001b[0m\u001b[1;33m]\u001b[0m\u001b[1;33m\u001b[0m\u001b[0m\n\u001b[0;32m     28\u001b[0m         \u001b[1;32mfor\u001b[0m \u001b[0mi\u001b[0m \u001b[1;32min\u001b[0m \u001b[0mrange\u001b[0m\u001b[1;33m(\u001b[0m\u001b[1;36m1\u001b[0m\u001b[1;33m,\u001b[0m\u001b[1;36m10\u001b[0m\u001b[1;33m)\u001b[0m\u001b[1;33m:\u001b[0m\u001b[1;33m\u001b[0m\u001b[0m\n\u001b[1;32m---> 29\u001b[1;33m             \u001b[0mtest_\u001b[0m\u001b[1;33m.\u001b[0m\u001b[0mappend\u001b[0m\u001b[1;33m(\u001b[0m\u001b[0mtest_accuracy\u001b[0m\u001b[1;33m(\u001b[0m\u001b[0mmodel_\u001b[0m\u001b[1;33m,\u001b[0m \u001b[0mtest_input_10\u001b[0m\u001b[1;33m[\u001b[0m\u001b[0mi\u001b[0m\u001b[1;33m,\u001b[0m\u001b[1;33m:\u001b[0m\u001b[1;33m,\u001b[0m\u001b[1;33m:\u001b[0m\u001b[1;33m]\u001b[0m\u001b[1;33m,\u001b[0m \u001b[0mtest_classes_10\u001b[0m\u001b[1;33m[\u001b[0m\u001b[0mi\u001b[0m\u001b[1;33m,\u001b[0m\u001b[1;33m:\u001b[0m\u001b[1;33m]\u001b[0m\u001b[1;33m)\u001b[0m\u001b[1;33m)\u001b[0m\u001b[1;33m\u001b[0m\u001b[0m\n\u001b[0m\u001b[0;32m     30\u001b[0m         \u001b[0mtest_error\u001b[0m\u001b[1;33m.\u001b[0m\u001b[0mappend\u001b[0m\u001b[1;33m(\u001b[0m\u001b[0msum\u001b[0m\u001b[1;33m(\u001b[0m\u001b[0mtest_\u001b[0m\u001b[1;33m)\u001b[0m \u001b[1;33m/\u001b[0m \u001b[0mlen\u001b[0m\u001b[1;33m(\u001b[0m\u001b[0mtest_\u001b[0m\u001b[1;33m)\u001b[0m\u001b[1;33m)\u001b[0m\u001b[1;33m\u001b[0m\u001b[0m\n\u001b[0;32m     31\u001b[0m     \u001b[0mend_time\u001b[0m \u001b[1;33m=\u001b[0m \u001b[0mdatetime\u001b[0m\u001b[1;33m.\u001b[0m\u001b[0mdatetime\u001b[0m\u001b[1;33m.\u001b[0m\u001b[0mnow\u001b[0m\u001b[1;33m(\u001b[0m\u001b[1;33m)\u001b[0m\u001b[1;33m\u001b[0m\u001b[0m\n",
      "\u001b[1;32m<ipython-input-7-7968d0d3991f>\u001b[0m in \u001b[0;36mtest_accuracy\u001b[1;34m(model_, my_test_input_, my_test_classes_)\u001b[0m\n\u001b[0;32m      1\u001b[0m \u001b[1;32mdef\u001b[0m \u001b[0mtest_accuracy\u001b[0m\u001b[1;33m(\u001b[0m\u001b[0mmodel_\u001b[0m\u001b[1;33m,\u001b[0m \u001b[0mmy_test_input_\u001b[0m\u001b[1;33m,\u001b[0m \u001b[0mmy_test_classes_\u001b[0m\u001b[1;33m)\u001b[0m\u001b[1;33m:\u001b[0m\u001b[1;33m\u001b[0m\u001b[0m\n\u001b[0;32m      2\u001b[0m     \u001b[0mtotal\u001b[0m \u001b[1;33m=\u001b[0m \u001b[0mmy_test_input_\u001b[0m\u001b[1;33m.\u001b[0m\u001b[0msize\u001b[0m\u001b[1;33m(\u001b[0m\u001b[1;36m0\u001b[0m\u001b[1;33m)\u001b[0m\u001b[1;33m\u001b[0m\u001b[0m\n\u001b[1;32m----> 3\u001b[1;33m     \u001b[0moutputs\u001b[0m \u001b[1;33m=\u001b[0m \u001b[0mmodel_\u001b[0m\u001b[1;33m(\u001b[0m\u001b[0mmy_test_input_\u001b[0m\u001b[1;33m)\u001b[0m\u001b[1;33m\u001b[0m\u001b[0m\n\u001b[0m\u001b[0;32m      4\u001b[0m     \u001b[0m_\u001b[0m\u001b[1;33m,\u001b[0m \u001b[0mpredictions\u001b[0m \u001b[1;33m=\u001b[0m \u001b[0mtorch\u001b[0m\u001b[1;33m.\u001b[0m\u001b[0mmax\u001b[0m\u001b[1;33m(\u001b[0m\u001b[0moutputs\u001b[0m\u001b[1;33m.\u001b[0m\u001b[0mdata\u001b[0m\u001b[1;33m,\u001b[0m \u001b[1;36m1\u001b[0m\u001b[1;33m)\u001b[0m\u001b[1;33m\u001b[0m\u001b[0m\n\u001b[0;32m      5\u001b[0m     \u001b[0mwell_predicted_count\u001b[0m \u001b[1;33m=\u001b[0m \u001b[1;33m(\u001b[0m\u001b[0mpredictions\u001b[0m\u001b[1;33m.\u001b[0m\u001b[0mlong\u001b[0m\u001b[1;33m(\u001b[0m\u001b[1;33m)\u001b[0m \u001b[1;33m==\u001b[0m \u001b[0mmy_test_classes_\u001b[0m\u001b[1;33m.\u001b[0m\u001b[0mlong\u001b[0m\u001b[1;33m(\u001b[0m\u001b[1;33m)\u001b[0m\u001b[1;33m)\u001b[0m\u001b[1;33m.\u001b[0m\u001b[0msum\u001b[0m\u001b[1;33m(\u001b[0m\u001b[1;33m)\u001b[0m\u001b[1;33m.\u001b[0m\u001b[0mitem\u001b[0m\u001b[1;33m(\u001b[0m\u001b[1;33m)\u001b[0m\u001b[1;33m\u001b[0m\u001b[0m\n",
      "\u001b[1;32m~\\Anaconda3\\lib\\site-packages\\torch\\nn\\modules\\module.py\u001b[0m in \u001b[0;36m__call__\u001b[1;34m(self, *input, **kwargs)\u001b[0m\n\u001b[0;32m    487\u001b[0m             \u001b[0mresult\u001b[0m \u001b[1;33m=\u001b[0m \u001b[0mself\u001b[0m\u001b[1;33m.\u001b[0m\u001b[0m_slow_forward\u001b[0m\u001b[1;33m(\u001b[0m\u001b[1;33m*\u001b[0m\u001b[0minput\u001b[0m\u001b[1;33m,\u001b[0m \u001b[1;33m**\u001b[0m\u001b[0mkwargs\u001b[0m\u001b[1;33m)\u001b[0m\u001b[1;33m\u001b[0m\u001b[0m\n\u001b[0;32m    488\u001b[0m         \u001b[1;32melse\u001b[0m\u001b[1;33m:\u001b[0m\u001b[1;33m\u001b[0m\u001b[0m\n\u001b[1;32m--> 489\u001b[1;33m             \u001b[0mresult\u001b[0m \u001b[1;33m=\u001b[0m \u001b[0mself\u001b[0m\u001b[1;33m.\u001b[0m\u001b[0mforward\u001b[0m\u001b[1;33m(\u001b[0m\u001b[1;33m*\u001b[0m\u001b[0minput\u001b[0m\u001b[1;33m,\u001b[0m \u001b[1;33m**\u001b[0m\u001b[0mkwargs\u001b[0m\u001b[1;33m)\u001b[0m\u001b[1;33m\u001b[0m\u001b[0m\n\u001b[0m\u001b[0;32m    490\u001b[0m         \u001b[1;32mfor\u001b[0m \u001b[0mhook\u001b[0m \u001b[1;32min\u001b[0m \u001b[0mself\u001b[0m\u001b[1;33m.\u001b[0m\u001b[0m_forward_hooks\u001b[0m\u001b[1;33m.\u001b[0m\u001b[0mvalues\u001b[0m\u001b[1;33m(\u001b[0m\u001b[1;33m)\u001b[0m\u001b[1;33m:\u001b[0m\u001b[1;33m\u001b[0m\u001b[0m\n\u001b[0;32m    491\u001b[0m             \u001b[0mhook_result\u001b[0m \u001b[1;33m=\u001b[0m \u001b[0mhook\u001b[0m\u001b[1;33m(\u001b[0m\u001b[0mself\u001b[0m\u001b[1;33m,\u001b[0m \u001b[0minput\u001b[0m\u001b[1;33m,\u001b[0m \u001b[0mresult\u001b[0m\u001b[1;33m)\u001b[0m\u001b[1;33m\u001b[0m\u001b[0m\n",
      "\u001b[1;32m<ipython-input-13-ab9025cc5fab>\u001b[0m in \u001b[0;36mforward\u001b[1;34m(self, x)\u001b[0m\n\u001b[0;32m     28\u001b[0m         \u001b[0moutputs\u001b[0m \u001b[1;33m=\u001b[0m \u001b[0mself\u001b[0m\u001b[1;33m.\u001b[0m\u001b[0mlayer1\u001b[0m\u001b[1;33m(\u001b[0m\u001b[0mx\u001b[0m\u001b[1;33m)\u001b[0m\u001b[1;33m\u001b[0m\u001b[0m\n\u001b[0;32m     29\u001b[0m         \u001b[0moutputs\u001b[0m \u001b[1;33m=\u001b[0m \u001b[0mself\u001b[0m\u001b[1;33m.\u001b[0m\u001b[0mrelu\u001b[0m\u001b[1;33m(\u001b[0m\u001b[0moutputs\u001b[0m\u001b[1;33m)\u001b[0m\u001b[1;33m\u001b[0m\u001b[0m\n\u001b[1;32m---> 30\u001b[1;33m         \u001b[0moutputs\u001b[0m \u001b[1;33m=\u001b[0m \u001b[0mself\u001b[0m\u001b[1;33m.\u001b[0m\u001b[0mlayer2\u001b[0m\u001b[1;33m(\u001b[0m\u001b[0moutputs\u001b[0m\u001b[1;33m)\u001b[0m\u001b[1;33m\u001b[0m\u001b[0m\n\u001b[0m\u001b[0;32m     31\u001b[0m         \u001b[0moutputs\u001b[0m \u001b[1;33m=\u001b[0m \u001b[0mself\u001b[0m\u001b[1;33m.\u001b[0m\u001b[0mrelu\u001b[0m\u001b[1;33m(\u001b[0m\u001b[0moutputs\u001b[0m\u001b[1;33m)\u001b[0m\u001b[1;33m\u001b[0m\u001b[0m\n\u001b[0;32m     32\u001b[0m         \u001b[0moutputs\u001b[0m \u001b[1;33m=\u001b[0m \u001b[0mself\u001b[0m\u001b[1;33m.\u001b[0m\u001b[0mlayer3\u001b[0m\u001b[1;33m(\u001b[0m\u001b[0moutputs\u001b[0m\u001b[1;33m)\u001b[0m\u001b[1;33m\u001b[0m\u001b[0m\n",
      "\u001b[1;32m~\\Anaconda3\\lib\\site-packages\\torch\\nn\\modules\\module.py\u001b[0m in \u001b[0;36m__call__\u001b[1;34m(self, *input, **kwargs)\u001b[0m\n\u001b[0;32m    487\u001b[0m             \u001b[0mresult\u001b[0m \u001b[1;33m=\u001b[0m \u001b[0mself\u001b[0m\u001b[1;33m.\u001b[0m\u001b[0m_slow_forward\u001b[0m\u001b[1;33m(\u001b[0m\u001b[1;33m*\u001b[0m\u001b[0minput\u001b[0m\u001b[1;33m,\u001b[0m \u001b[1;33m**\u001b[0m\u001b[0mkwargs\u001b[0m\u001b[1;33m)\u001b[0m\u001b[1;33m\u001b[0m\u001b[0m\n\u001b[0;32m    488\u001b[0m         \u001b[1;32melse\u001b[0m\u001b[1;33m:\u001b[0m\u001b[1;33m\u001b[0m\u001b[0m\n\u001b[1;32m--> 489\u001b[1;33m             \u001b[0mresult\u001b[0m \u001b[1;33m=\u001b[0m \u001b[0mself\u001b[0m\u001b[1;33m.\u001b[0m\u001b[0mforward\u001b[0m\u001b[1;33m(\u001b[0m\u001b[1;33m*\u001b[0m\u001b[0minput\u001b[0m\u001b[1;33m,\u001b[0m \u001b[1;33m**\u001b[0m\u001b[0mkwargs\u001b[0m\u001b[1;33m)\u001b[0m\u001b[1;33m\u001b[0m\u001b[0m\n\u001b[0m\u001b[0;32m    490\u001b[0m         \u001b[1;32mfor\u001b[0m \u001b[0mhook\u001b[0m \u001b[1;32min\u001b[0m \u001b[0mself\u001b[0m\u001b[1;33m.\u001b[0m\u001b[0m_forward_hooks\u001b[0m\u001b[1;33m.\u001b[0m\u001b[0mvalues\u001b[0m\u001b[1;33m(\u001b[0m\u001b[1;33m)\u001b[0m\u001b[1;33m:\u001b[0m\u001b[1;33m\u001b[0m\u001b[0m\n\u001b[0;32m    491\u001b[0m             \u001b[0mhook_result\u001b[0m \u001b[1;33m=\u001b[0m \u001b[0mhook\u001b[0m\u001b[1;33m(\u001b[0m\u001b[0mself\u001b[0m\u001b[1;33m,\u001b[0m \u001b[0minput\u001b[0m\u001b[1;33m,\u001b[0m \u001b[0mresult\u001b[0m\u001b[1;33m)\u001b[0m\u001b[1;33m\u001b[0m\u001b[0m\n",
      "\u001b[1;32m~\\Anaconda3\\lib\\site-packages\\torch\\nn\\modules\\linear.py\u001b[0m in \u001b[0;36mforward\u001b[1;34m(self, input)\u001b[0m\n\u001b[0;32m     65\u001b[0m     \u001b[1;33m@\u001b[0m\u001b[0mweak_script_method\u001b[0m\u001b[1;33m\u001b[0m\u001b[0m\n\u001b[0;32m     66\u001b[0m     \u001b[1;32mdef\u001b[0m \u001b[0mforward\u001b[0m\u001b[1;33m(\u001b[0m\u001b[0mself\u001b[0m\u001b[1;33m,\u001b[0m \u001b[0minput\u001b[0m\u001b[1;33m)\u001b[0m\u001b[1;33m:\u001b[0m\u001b[1;33m\u001b[0m\u001b[0m\n\u001b[1;32m---> 67\u001b[1;33m         \u001b[1;32mreturn\u001b[0m \u001b[0mF\u001b[0m\u001b[1;33m.\u001b[0m\u001b[0mlinear\u001b[0m\u001b[1;33m(\u001b[0m\u001b[0minput\u001b[0m\u001b[1;33m,\u001b[0m \u001b[0mself\u001b[0m\u001b[1;33m.\u001b[0m\u001b[0mweight\u001b[0m\u001b[1;33m,\u001b[0m \u001b[0mself\u001b[0m\u001b[1;33m.\u001b[0m\u001b[0mbias\u001b[0m\u001b[1;33m)\u001b[0m\u001b[1;33m\u001b[0m\u001b[0m\n\u001b[0m\u001b[0;32m     68\u001b[0m \u001b[1;33m\u001b[0m\u001b[0m\n\u001b[0;32m     69\u001b[0m     \u001b[1;32mdef\u001b[0m \u001b[0mextra_repr\u001b[0m\u001b[1;33m(\u001b[0m\u001b[0mself\u001b[0m\u001b[1;33m)\u001b[0m\u001b[1;33m:\u001b[0m\u001b[1;33m\u001b[0m\u001b[0m\n",
      "\u001b[1;32m~\\Anaconda3\\lib\\site-packages\\torch\\nn\\functional.py\u001b[0m in \u001b[0;36mlinear\u001b[1;34m(input, weight, bias)\u001b[0m\n\u001b[0;32m   1350\u001b[0m     \u001b[1;32mif\u001b[0m \u001b[0minput\u001b[0m\u001b[1;33m.\u001b[0m\u001b[0mdim\u001b[0m\u001b[1;33m(\u001b[0m\u001b[1;33m)\u001b[0m \u001b[1;33m==\u001b[0m \u001b[1;36m2\u001b[0m \u001b[1;32mand\u001b[0m \u001b[0mbias\u001b[0m \u001b[1;32mis\u001b[0m \u001b[1;32mnot\u001b[0m \u001b[1;32mNone\u001b[0m\u001b[1;33m:\u001b[0m\u001b[1;33m\u001b[0m\u001b[0m\n\u001b[0;32m   1351\u001b[0m         \u001b[1;31m# fused op is marginally faster\u001b[0m\u001b[1;33m\u001b[0m\u001b[1;33m\u001b[0m\u001b[0m\n\u001b[1;32m-> 1352\u001b[1;33m         \u001b[0mret\u001b[0m \u001b[1;33m=\u001b[0m \u001b[0mtorch\u001b[0m\u001b[1;33m.\u001b[0m\u001b[0maddmm\u001b[0m\u001b[1;33m(\u001b[0m\u001b[0mtorch\u001b[0m\u001b[1;33m.\u001b[0m\u001b[0mjit\u001b[0m\u001b[1;33m.\u001b[0m\u001b[0m_unwrap_optional\u001b[0m\u001b[1;33m(\u001b[0m\u001b[0mbias\u001b[0m\u001b[1;33m)\u001b[0m\u001b[1;33m,\u001b[0m \u001b[0minput\u001b[0m\u001b[1;33m,\u001b[0m \u001b[0mweight\u001b[0m\u001b[1;33m.\u001b[0m\u001b[0mt\u001b[0m\u001b[1;33m(\u001b[0m\u001b[1;33m)\u001b[0m\u001b[1;33m)\u001b[0m\u001b[1;33m\u001b[0m\u001b[0m\n\u001b[0m\u001b[0;32m   1353\u001b[0m     \u001b[1;32melse\u001b[0m\u001b[1;33m:\u001b[0m\u001b[1;33m\u001b[0m\u001b[0m\n\u001b[0;32m   1354\u001b[0m         \u001b[0moutput\u001b[0m \u001b[1;33m=\u001b[0m \u001b[0minput\u001b[0m\u001b[1;33m.\u001b[0m\u001b[0mmatmul\u001b[0m\u001b[1;33m(\u001b[0m\u001b[0mweight\u001b[0m\u001b[1;33m.\u001b[0m\u001b[0mt\u001b[0m\u001b[1;33m(\u001b[0m\u001b[1;33m)\u001b[0m\u001b[1;33m)\u001b[0m\u001b[1;33m\u001b[0m\u001b[0m\n",
      "\u001b[1;31mKeyboardInterrupt\u001b[0m: "
     ]
    }
   ],
   "source": [
    "hidden_size = [10, 50, 100, 200, 500, 1000, 2000]\n",
    "train_error_HS = [[],[],[],[],[],[],[]]\n",
    "test_error_HS = [[],[],[],[],[],[],[]]\n",
    "train_time_HS = [[],[],[],[],[],[],[]]\n",
    "idx = 0\n",
    "for HS in hidden_size:\n",
    "    print(\"Hidden size = \" + str(HS))\n",
    "    # creating neural net and run 2 training with and without learning rate decay\n",
    "    model = NeuralNet(input_size, HS, num_class, 1).to(device)\n",
    "    # CrossEntropyLoss and optimizer which minimize loss with learning rate step\n",
    "    criterion = nn.CrossEntropyLoss()\n",
    "    optimizer = torch.optim.SGD(model.parameters(), lr=learning_rate)  \n",
    "    train_error_HS[idx], test_error_HS[idx], train_time_HS[idx] = train_model(model, my_train_input, my_train_classes, criterion, optimizer,num_epochs,batch_size,LRD)\n",
    "    idx += 1"
   ]
  },
  {
   "cell_type": "code",
   "execution_count": null,
   "metadata": {},
   "outputs": [],
   "source": [
    "for i in range(len(hidden_size)):\n",
    "    print(\"Train time for hidden size= {}: {}\".format(hidden_size[0],train_time_HS[0].seconds)"
   ]
  },
  {
   "cell_type": "code",
   "execution_count": null,
   "metadata": {},
   "outputs": [],
   "source": [
    "plt.plot(test_error_HS[0],'r--', label='10')\n",
    "plt.plot(test_error_HS[1], 'g--', label='50')\n",
    "plt.plot(test_error_HS[2], 'b--', label='100')\n",
    "plt.plot(test_error_HS[3], 'y--', label='200')\n",
    "plt.plot(test_error_HS[4], 'k--', label='500')\n",
    "plt.plot(test_error_HS[5], 'c--', label='1000')\n",
    "plt.plot(test_error_HS[6], 'm--', label='2000')\n",
    "plt.ylabel('Error (scale: 0 - 1)')\n",
    "plt.xlabel('Epoch')\n",
    "plt.legend(bbox_to_anchor=(1.05, 1), loc=5, borderaxespad=0.)\n",
    "plt.title(\"Train and Test error with different hidden size\")\n",
    "plt.show()"
   ]
  },
  {
   "cell_type": "markdown",
   "metadata": {},
   "source": [
    "# Testing influence of Batch Size"
   ]
  },
  {
   "cell_type": "code",
   "execution_count": null,
   "metadata": {},
   "outputs": [],
   "source": [
    "hidden_size = 500\n",
    "batch_size = [2, 5, 20, 50, 100]\n",
    "train_error_BS = [[],[],[],[],[]]\n",
    "test_error_BS = [[],[],[],[],[]]\n",
    "train_time_BS = [[],[],[],[],[]]\n",
    "idx = 0\n",
    "for BS in batch_size:\n",
    "    print(\"Batch size = \" + str(BS))\n",
    "    # creating neural net and run 2 training with and without learning rate decay\n",
    "    model = NeuralNet(input_size, hidden_size, num_class, 1).to(device)\n",
    "    # CrossEntropyLoss and optimizer which minimize loss with learning rate step\n",
    "    criterion = nn.CrossEntropyLoss()\n",
    "    optimizer = torch.optim.SGD(model.parameters(), lr=learning_rate)  \n",
    "    train_error_BS[idx], test_error_BS[idx], train_time_BS[idx] = train_model(model, my_train_input, my_train_classes, criterion, optimizer,num_epochs,BS,LRD)\n",
    "    idx += 1"
   ]
  },
  {
   "cell_type": "code",
   "execution_count": null,
   "metadata": {},
   "outputs": [],
   "source": [
    "for i in range(len(batch_size)):\n",
    "    print(\"Train time for batch size= {}: {}\".format(batch_size[0],train_time_BS[0].seconds)"
   ]
  },
  {
   "cell_type": "code",
   "execution_count": null,
   "metadata": {},
   "outputs": [],
   "source": [
    "plt.plot(test_error_BS[0],'r--', label='2')\n",
    "plt.plot(test_error_BS[1], 'g--', label='5')\n",
    "plt.plot(test_error_BS[2], 'b--', label='20')\n",
    "plt.plot(test_error_BS[3], 'y--', label='50')\n",
    "plt.plot(test_error_BS[4], 'k--', label='100')\n",
    "plt.ylabel('Error (scale: 0 - 1)')\n",
    "plt.xlabel('Epoch')\n",
    "plt.legend(bbox_to_anchor=(1.05, 1), loc=5, borderaxespad=0.)\n",
    "plt.title(\"Train and Test error with different batch size\")\n",
    "plt.show()"
   ]
  },
  {
   "cell_type": "markdown",
   "metadata": {},
   "source": [
    "# Testing the influence of learning rate decay"
   ]
  },
  {
   "cell_type": "code",
   "execution_count": null,
   "metadata": {},
   "outputs": [],
   "source": [
    "learning_rate_decay = [False, True]\n",
    "train_error_LRD = [[],[]]\n",
    "test_error_LRD = [[],[]]\n",
    "time_to_train_LRD = [[],[]]\n",
    "idx = 0\n",
    "for LRD in learning_rate_decay:    \n",
    "    print(\"learning rate = \" + str(LRD))\n",
    "    # creating neural net and run 2 training with and without learning rate decay\n",
    "    model = NeuralNet(input_size, hidden_size, num_class, 1).to(device)\n",
    "    # CrossEntropyLoss and optimizer which minimize loss with learning rate step\n",
    "    criterion = nn.CrossEntropyLoss()\n",
    "    optimizer = torch.optim.SGD(model.parameters(), lr=learning_rate)  \n",
    "    train_error_LRD[idx], test_error_LRD[idx], time_to_train_LRD[idx] = train_model(model, my_train_input, my_train_classes, criterion, optimizer,num_epochs,batch_size,LRD)\n",
    "    idx += 1"
   ]
  },
  {
   "cell_type": "code",
   "execution_count": null,
   "metadata": {},
   "outputs": [],
   "source": [
    "for i in range(len(time_to_train_LRD)):\n",
    "    print(\"Train time with learning rate decay = {}: {}\".format(learning_rate_decay[0],time_to_train_LRD[0].seconds)"
   ]
  },
  {
   "cell_type": "code",
   "execution_count": null,
   "metadata": {},
   "outputs": [],
   "source": [
    "plt.plot(train_error_LRD[0], 'r--', label='train error without LRD')\n",
    "plt.plot(train_error_LRD[1], 'r', label='train error with LRD')\n",
    "plt.plot(test_error_LRD[0], 'b--', label='test error without LRD')\n",
    "plt.plot(test_error_LRD[1], 'b', label='test error with LRD')\n",
    "plt.ylabel('Error (scale: 0 - 1)')\n",
    "plt.xlabel('Epoch')\n",
    "plt.legend(bbox_to_anchor=(1.05, 1), loc=2, borderaxespad=0.)\n",
    "plt.title(\"Train and Test error with and without learning rate decay (LRD)\")\n",
    "plt.show()"
   ]
  },
  {
   "cell_type": "markdown",
   "metadata": {},
   "source": [
    "# Testing different learning rate values"
   ]
  },
  {
   "cell_type": "code",
   "execution_count": null,
   "metadata": {},
   "outputs": [],
   "source": [
    "learning_rates = [0.0005, 0.001, 0.002, 0.004, 0.007, 0.01]\n",
    "train_error_LR = [[],[],[],[],[],[]]\n",
    "test_error_LR = [[],[],[],[],[],[]]\n",
    "time_to_train_LR = [[],[],[],[],[],[]]\n",
    "idx = 0\n",
    "for LR in learning_rates:    \n",
    "    print(\"learning rate = \" + str(LRD))\n",
    "    # creating neural net and run 2 training with and without learning rate decay\n",
    "    model = NeuralNet(input_size, hidden_size, num_class, 1).to(device)\n",
    "    # CrossEntropyLoss and optimizer which minimize loss with learning rate step\n",
    "    criterion = nn.CrossEntropyLoss()\n",
    "    optimizer = torch.optim.SGD(model.parameters(), lr=LR)  \n",
    "    train_error_LR[idx], test_error_LR[idx], time_to_train_LR[idx] = train_model(model, my_train_input, my_train_classes, criterion, optimizer,num_epochs,batch_size,True)\n",
    "    idx += 1"
   ]
  },
  {
   "cell_type": "code",
   "execution_count": null,
   "metadata": {},
   "outputs": [],
   "source": [
    "for i in range(len(learning_rates)):\n",
    "    print(\"Train time with learning rate = {}: {}\".format(learning_rates[0],time_to_train_LR[0].seconds)"
   ]
  },
  {
   "cell_type": "code",
   "execution_count": null,
   "metadata": {},
   "outputs": [],
   "source": [
    "plt.plot(train_error_LRD[0], 'r--', label='train error without LRD')\n",
    "plt.plot(train_error_LRD[1], 'r', label='train error with LRD')\n",
    "plt.plot(test_error_LRD[0], 'b--', label='test error without LRD')\n",
    "plt.plot(test_error_LRD[1], 'b', label='test error with LRD')\n",
    "plt.ylabel('Error (scale: 0 - 1)')\n",
    "plt.xlabel('Epoch')\n",
    "plt.legend(bbox_to_anchor=(1.05, 1), loc=2, borderaxespad=0.)\n",
    "plt.title(\"Train and Test error with and without learning rate decay (LRD)\")\n",
    "plt.show()"
   ]
  },
  {
   "cell_type": "code",
   "execution_count": null,
   "metadata": {},
   "outputs": [],
   "source": []
  },
  {
   "cell_type": "markdown",
   "metadata": {},
   "source": [
    "# Testing regularization technique: Dropout"
   ]
  },
  {
   "cell_type": "code",
   "execution_count": null,
   "metadata": {},
   "outputs": [],
   "source": [
    "dropout = [0, 0.25, 0.50, 0.75, 0.100]\n",
    "idx = 0\n",
    "train_error_dropout = [[],[],[],[],[]]\n",
    "test_error_dropout = [[],[],[],[],[]]\n",
    "train_time_dropout = [[],[],[],[],[]]\n",
    "for dropout_ in dropout:\n",
    "    print(\"Dropout= \" + str(dropout_))\n",
    "    # creating neural net and run 2 training with and without learning rate decay\n",
    "    model = NeuralNet(input_size, hidden_size, num_class, dropout_).to(device)\n",
    "    # CrossEntropyLoss and optimizer which minimize loss with learning rate step\n",
    "    criterion = nn.CrossEntropyLoss()\n",
    "    optimizer = torch.optim.SGD(model.parameters(), lr=learning_rate)  \n",
    "    train_error_dropout[idx], test_error_dropout[idx], train_time_dropout[idx] = train_model(model, my_train_input, my_train_classes, criterion, optimizer,num_epochs,batch_size,True)\n",
    "    idx += 1"
   ]
  },
  {
   "cell_type": "code",
   "execution_count": null,
   "metadata": {},
   "outputs": [],
   "source": [
    "for i in range(len(dropout)):\n",
    "    print(\"Train time for dropout= {}: {}\".format(dropout[0],train_time_dropout[0].seconds)"
   ]
  },
  {
   "cell_type": "code",
   "execution_count": 102,
   "metadata": {},
   "outputs": [
    {
     "data": {
      "image/png": "[encoded data removed]",
      "text/plain": [
       "<Figure size 432x288 with 1 Axes>"
      ]
     },
     "metadata": {},
     "output_type": "display_data"
    }
   ],
   "source": [
    "plt.plot(test_error_dropout[0],'r--', label='0')\n",
    "plt.plot(test_error_dropout[1], 'g--', label='0.25')\n",
    "plt.plot(test_error_dropout[2], 'b--', label='0.50')\n",
    "plt.plot(test_error_dropout[3], 'y--', label='0.75')\n",
    "plt.ylabel('Error (scale: 0 - 1)')\n",
    "plt.xlabel('Epoch')\n",
    "plt.legend(bbox_to_anchor=(1.05, 1), loc=5, borderaxespad=0.)\n",
    "plt.title(\"Train and Test error with dropout\")\n",
    "plt.show()"
   ]
  },
  {
   "cell_type": "markdown",
   "metadata": {},
   "source": [
    "# Building the best model from previous analysis"
   ]
  },
  {
   "cell_type": "code",
   "execution_count": null,
   "metadata": {},
   "outputs": [],
   "source": []
  },
  {
   "cell_type": "code",
   "execution_count": null,
   "metadata": {},
   "outputs": [],
   "source": []
  },
  {
   "cell_type": "code",
   "execution_count": null,
   "metadata": {},
   "outputs": [],
   "source": []
  },
  {
   "cell_type": "markdown",
   "metadata": {},
   "source": [
    "# Testing on the 2 batches\n",
    "A model for the two batch of 1000 images"
   ]
  },
  {
   "cell_type": "code",
   "execution_count": 39,
   "metadata": {},
   "outputs": [],
   "source": [
    "my_test_input1 = test_input[:,0,:]\n",
    "my_test_input2 = test_input[:,1,:]\n",
    "my_test_classes1 = test_classes[0:1000,0]\n",
    "my_test_classes2 = test_classes[0:1000,1]"
   ]
  },
  {
   "cell_type": "code",
   "execution_count": 40,
   "metadata": {},
   "outputs": [
    {
     "data": {
      "image/png": "[encoded data removed]",
      "text/plain": [
       "<Figure size 432x288 with 6 Axes>"
      ]
     },
     "metadata": {},
     "output_type": "display_data"
    }
   ],
   "source": [
    "# verifying the digits and labels\n",
    "for i in range(6):\n",
    "  plt.subplot(2,3,i+1)\n",
    "  plt.imshow(my_test_input2[i], cmap='gray', interpolation='none')\n",
    "  plt.title(\"Value: {}\".format(my_test_classes2[i]))  \n",
    "  plt.tight_layout()\n",
    "  plt.xticks([])\n",
    "  plt.yticks([])"
   ]
  },
  {
   "cell_type": "code",
   "execution_count": 41,
   "metadata": {},
   "outputs": [],
   "source": [
    "my_test_input1=my_test_input1.reshape(1000,196)\n",
    "my_test_input2=my_test_input2.reshape(1000,196)"
   ]
  },
  {
   "cell_type": "code",
   "execution_count": 42,
   "metadata": {},
   "outputs": [
    {
     "name": "stdout",
     "output_type": "stream",
     "text": [
      "Error on batch 1: 0.08299999999999996\n",
      "Error on batch 2: 0.08599999999999997\n"
     ]
    }
   ],
   "source": [
    "print(\"Error on batch 1: {}\".format(test_accuracy(model, my_test_input1, my_test_classes1)))\n",
    "print(\"Error on batch 2: {}\".format(test_accuracy(model, my_test_input2, my_test_classes2)))"
   ]
  },
  {
   "cell_type": "markdown",
   "metadata": {},
   "source": [
    "# Building neural net for Digit Comparison"
   ]
  },
  {
   "cell_type": "code",
   "execution_count": 43,
   "metadata": {},
   "outputs": [
    {
     "name": "stdout",
     "output_type": "stream",
     "text": [
      "Loss: 0.1127 on epoch: 1\n",
      "Loss: 0.0278 on epoch: 6\n",
      "Loss: 0.0171 on epoch: 11\n",
      "Loss: 0.0134 on epoch: 16\n",
      "Loss: 0.0110 on epoch: 21\n"
     ]
    }
   ],
   "source": [
    "# number of epoch\n",
    "num_epochs_dc = 21\n",
    "# batch size to compute mini-batch\n",
    "batch_size_dc = 10\n",
    "# number of pixels in the image \n",
    "input_size_dc = 2\n",
    "# number of possible digit: 0 to 9 \n",
    "num_class_dc = 1\n",
    "# small step to find a minima\n",
    "learning_rate_dc = 0.004\n",
    "# hidden size\n",
    "hidden_size_dc = 200\n",
    "\n",
    "# Fully connected neural network with one hidden layer\n",
    "class NeuralNet_dc(nn.Module):\n",
    "    def __init__(self, input_size, hidden_size, num_class):\n",
    "        super(NeuralNet_dc, self).__init__()\n",
    "        self.layer1 = nn.Linear(input_size, hidden_size) \n",
    "        self.relu = nn.ReLU()\n",
    "        self.layer2 = nn.Linear(hidden_size, hidden_size)  \n",
    "        self.layer3 = nn.Linear(hidden_size, num_class)  \n",
    "    \n",
    "    def forward(self, x, batch_size_):\n",
    "        outputs = self.layer1(x)\n",
    "        outputs = self.relu(outputs)\n",
    "        outputs = self.layer2(outputs)\n",
    "        outputs = self.relu(outputs)\n",
    "        outputs = self.layer3(outputs)\n",
    "        return outputs.reshape([1, batch_size_])[0]\n",
    "        \n",
    "    \n",
    "# creating neural net\n",
    "model_dc = NeuralNet_dc(input_size_dc, hidden_size_dc, num_class_dc).to(device)\n",
    "\n",
    "# MSELoss and optimizer which minimize loss with learning rate step\n",
    "criterion_dc = nn.MSELoss()\n",
    "optimizer_dc = torch.optim.SGD(model_dc.parameters(), lr=learning_rate_dc)  \n",
    "\n",
    "# train function\n",
    "for epoch in range(num_epochs_dc):\n",
    "    for i in range(int(len(train_classes)/batch_size_dc)):  \n",
    "        # Move tensors to the configured device\n",
    "        inputs = train_classes.narrow(0,i*batch_size_dc,batch_size_dc).to(device).float()\n",
    "        labels = train_target.narrow(0,i*batch_size_dc,batch_size_dc).to(device)\n",
    "\n",
    "        # Forward pass\n",
    "        outputs = model_dc(inputs,batch_size_dc)\n",
    "        loss = criterion_dc(outputs, labels.float())\n",
    "        \n",
    "        # Backward and optimize\n",
    "        optimizer_dc.zero_grad()\n",
    "        loss.backward()\n",
    "        optimizer_dc.step()\n",
    "    if(epoch % 5 == 0):    \n",
    "        print ('Loss: {:.4f} on epoch: {}'.format(loss.item(),epoch+1))"
   ]
  },
  {
   "cell_type": "code",
   "execution_count": 44,
   "metadata": {},
   "outputs": [
    {
     "name": "stdout",
     "output_type": "stream",
     "text": [
      "Accuracy: 100.0 %\n"
     ]
    }
   ],
   "source": [
    "# test function\n",
    "def test_accuracy_dc(model_, my_test_input_, my_test_classes_):\n",
    "\n",
    "    total = my_test_input_.size(0)\n",
    "\n",
    "    outputs = model_(my_test_input_.float(),total)\n",
    "    t = Variable(torch.Tensor([0.5]))\n",
    "    predictions = (outputs > t).float() * 1\n",
    "\n",
    "    well_predicted_count = (predictions == my_test_classes_.float()).sum().item()\n",
    "    print('Accuracy: {} %'.format(100 * well_predicted_count / total))\n",
    "\n",
    "test_accuracy_dc(model_dc, test_classes, test_target)\n"
   ]
  },
  {
   "cell_type": "markdown",
   "metadata": {},
   "source": [
    "# Running both neural networks in sequence"
   ]
  },
  {
   "cell_type": "code",
   "execution_count": 45,
   "metadata": {},
   "outputs": [
    {
     "name": "stdout",
     "output_type": "stream",
     "text": [
      "Accuracy: 93.4 %\n",
      "Accuracy: 92.3 %\n"
     ]
    },
    {
     "data": {
      "text/plain": [
       "tensor([[0, 7],\n",
       "        [4, 1],\n",
       "        [8, 7],\n",
       "        ...,\n",
       "        [5, 3],\n",
       "        [5, 6],\n",
       "        [7, 4]])"
      ]
     },
     "execution_count": 45,
     "metadata": {},
     "output_type": "execute_result"
    }
   ],
   "source": [
    "# test function\n",
    "def getting_y(model_, my_test_input_, my_test_classes_):\n",
    "    total = my_test_input_.size(0)\n",
    "    outputs = model_(my_test_input_)\n",
    "    _, predictions = torch.max(outputs.data, 1)\n",
    "    well_predicted_count = (predictions == my_test_classes_).sum().item()\n",
    "\n",
    "    print('Accuracy: {} %'.format(100 * well_predicted_count / total))\n",
    "    return predictions\n",
    "\n",
    "y1 = getting_y(model_reg, my_test_input1, my_test_classes1)\n",
    "y2 = getting_y(model_reg, my_test_input2, my_test_classes2)\n",
    "y_test_classes = torch.tensor([y1.tolist(), y2.tolist()]).transpose_(0, 1)\n",
    "y_test_classes"
   ]
  },
  {
   "cell_type": "code",
   "execution_count": 46,
   "metadata": {},
   "outputs": [
    {
     "name": "stdout",
     "output_type": "stream",
     "text": [
      "Accuracy: 95.4 %\n"
     ]
    }
   ],
   "source": [
    "# test function\n",
    "def digit_comparison(model_, my_test_input_, my_test_classes_):\n",
    "    total = my_test_input_.size(0)\n",
    "\n",
    "    outputs = model_(my_test_input_.float())\n",
    "    t = Variable(torch.Tensor([0.5]))\n",
    "    predictions = (outputs > t).float() * 1\n",
    "\n",
    "    well_predicted_count = (predictions == my_test_classes_.float()).sum().item()\n",
    "    print('Accuracy: {} %'.format(100 * well_predicted_count / total))\n",
    "\n",
    "test_accuracy_dc(model_dc, y_test_classes, test_target)"
   ]
  },
  {
   "cell_type": "code",
   "execution_count": null,
   "metadata": {},
   "outputs": [],
   "source": []
  }
 ],
 "metadata": {
  "kernelspec": {
   "display_name": "Python 3",
   "language": "python",
   "name": "python3"
  },
  "language_info": {
   "codemirror_mode": {
    "name": "ipython",
    "version": 3
   },
   "file_extension": ".py",
   "mimetype": "text/x-python",
   "name": "python",
   "nbconvert_exporter": "python",
   "pygments_lexer": "ipython3",
   "version": "3.6.5"
  }
 },
 "nbformat": 4,
 "nbformat_minor": 2
}
