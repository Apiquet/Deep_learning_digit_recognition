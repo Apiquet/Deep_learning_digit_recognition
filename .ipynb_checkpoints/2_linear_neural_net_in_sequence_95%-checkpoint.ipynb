{
 "cells": [
  {
   "cell_type": "code",
   "execution_count": 6,
   "metadata": {},
   "outputs": [
    {
     "name": "stderr",
     "output_type": "stream",
     "text": [
      "C:\\Users\\antho\\Anaconda3\\lib\\site-packages\\torchvision\\datasets\\mnist.py:53: UserWarning: train_data has been renamed data\n",
      "  warnings.warn(\"train_data has been renamed data\")\n",
      "C:\\Users\\antho\\Anaconda3\\lib\\site-packages\\torchvision\\datasets\\mnist.py:43: UserWarning: train_labels has been renamed targets\n",
      "  warnings.warn(\"train_labels has been renamed targets\")\n",
      "C:\\Users\\antho\\Anaconda3\\lib\\site-packages\\torchvision\\datasets\\mnist.py:58: UserWarning: test_data has been renamed data\n",
      "  warnings.warn(\"test_data has been renamed data\")\n",
      "C:\\Users\\antho\\Anaconda3\\lib\\site-packages\\torchvision\\datasets\\mnist.py:48: UserWarning: test_labels has been renamed targets\n",
      "  warnings.warn(\"test_labels has been renamed targets\")\n"
     ]
    }
   ],
   "source": [
    "import torch\n",
    "import math\n",
    "\n",
    "from torch import optim\n",
    "from torch import Tensor\n",
    "from torch.autograd import Variable\n",
    "from torch import nn\n",
    "from torch.nn import functional as F\n",
    "import dlc_practical_prologue      \n",
    "size=1000;\n",
    "train_input, train_target, train_classes, test_input, test_target, test_classes = \\\n",
    "    dlc_practical_prologue.generate_pair_sets(size)\n",
    "train_input, train_target, train_classes = Variable(train_input), Variable(train_target), Variable((train_classes))\n",
    "test_input, test_target, test_classes = Variable(test_input), Variable(test_target), Variable(test_classes)\n",
    "mini_batch_size = 10\n"
   ]
  },
  {
   "cell_type": "code",
   "execution_count": 7,
   "metadata": {},
   "outputs": [
    {
     "data": {
      "image/png": "[encoded data removed]",
      "text/plain": [
       "<Figure size 432x288 with 6 Axes>"
      ]
     },
     "metadata": {},
     "output_type": "display_data"
    }
   ],
   "source": [
    "import matplotlib.pyplot as plt\n",
    "\n",
    "fig = plt.figure()\n",
    "for i in range(6):\n",
    "  plt.subplot(2,3,i+1)\n",
    "  plt.imshow(test_input[i][0], cmap='gray', interpolation='none')\n",
    "  plt.title(\"Value: {}\".format(test_classes[i][0]))  \n",
    "  plt.tight_layout()\n",
    "  plt.xticks([])\n",
    "  plt.yticks([])"
   ]
  },
  {
   "cell_type": "code",
   "execution_count": 8,
   "metadata": {},
   "outputs": [
    {
     "data": {
      "image/png": "[encoded data removed]",
      "text/plain": [
       "<Figure size 432x288 with 6 Axes>"
      ]
     },
     "metadata": {},
     "output_type": "display_data"
    }
   ],
   "source": [
    "for i in range(6):\n",
    "  plt.subplot(2,3,i+1)\n",
    "  plt.imshow(test_input[i][1], cmap='gray', interpolation='none')\n",
    "  plt.title(\"Value: {}\".format(test_classes[i][1]))  \n",
    "  plt.tight_layout()\n",
    "  plt.xticks([])\n",
    "  plt.yticks([])"
   ]
  },
  {
   "cell_type": "markdown",
   "metadata": {},
   "source": [
    "# First neural net\n",
    "Train the model on all the 2000 images in train_input"
   ]
  },
  {
   "cell_type": "code",
   "execution_count": 9,
   "metadata": {},
   "outputs": [],
   "source": [
    "my_train_input = train_input.reshape([2000,196])\n",
    "my_train_classes = train_classes.reshape([2000])\n",
    "my_test_input = test_input.reshape([2000,196])\n",
    "my_test_classes = test_classes.reshape([2000])"
   ]
  },
  {
   "cell_type": "code",
   "execution_count": 69,
   "metadata": {},
   "outputs": [],
   "source": [
    "# device\n",
    "device = torch.device('cuda' if torch.cuda.is_available() else 'cpu')\n",
    "\n",
    "# number of epoch\n",
    "num_epochs = 10\n",
    "# batch size to compute mini-batch\n",
    "batch_size = 5\n",
    "# number of pixels in the image \n",
    "input_size = 196\n",
    "# number of possible digit: 0 to 9 \n",
    "num_class = 10\n",
    "# small step to find a minima\n",
    "learning_rate = 0.001\n",
    "# hidden size\n",
    "hidden_size = 1000\n",
    "\n",
    "# Fully connected neural network with one hidden layer\n",
    "class NeuralNet(nn.Module):\n",
    "    def __init__(self, input_size, hidden_size, num_class):\n",
    "        super(NeuralNet, self).__init__()\n",
    "        self.layer1 = nn.Linear(input_size, hidden_size) \n",
    "        self.relu = nn.ReLU()\n",
    "        self.layer2 = nn.Linear(hidden_size, num_class)  \n",
    "    \n",
    "    def forward(self, x):\n",
    "        outputs = self.layer1(x)\n",
    "        outputs = self.relu(outputs)\n",
    "        outputs = self.layer2(outputs)\n",
    "        return outputs\n",
    "\n",
    "# creating neural net\n",
    "model = NeuralNet(input_size, hidden_size, num_class).to(device)\n",
    "\n",
    "# CrossEntropyLoss and optimizer which minimize loss with learning rate step\n",
    "criterion = nn.CrossEntropyLoss()\n",
    "optimizer = torch.optim.SGD(model.parameters(), lr=learning_rate)  "
   ]
  },
  {
   "cell_type": "code",
   "execution_count": 61,
   "metadata": {},
   "outputs": [],
   "source": [
    "def test_accuracy(model_, my_test_input_, my_test_classes_):\n",
    "    total = 0\n",
    "    well_predicted_count = 0\n",
    "    for i in range(int(len(my_test_input_)/batch_size)):\n",
    "\n",
    "        images = my_test_input_.narrow(0,i*batch_size,batch_size).reshape([batch_size,14*14]).to(device)\n",
    "        labels = my_test_classes_.narrow(0,i*batch_size,batch_size).to(device)\n",
    "        total += labels.size(0)\n",
    "\n",
    "        outputs = model_(images)\n",
    "        _, predictions = torch.max(outputs.data, 1)\n",
    "\n",
    "        well_predicted_count += (predictions == labels).sum().item()\n",
    "\n",
    "    return 100 * well_predicted_count / total"
   ]
  },
  {
   "cell_type": "code",
   "execution_count": 70,
   "metadata": {},
   "outputs": [
    {
     "name": "stdout",
     "output_type": "stream",
     "text": [
      "Loss: 0.0030 on epoch: 1\n",
      "Loss: 0.3331 on epoch: 2\n",
      "Loss: 0.0053 on epoch: 3\n",
      "Loss: 0.0010 on epoch: 4\n",
      "Loss: 0.0007 on epoch: 5\n",
      "Loss: 0.0006 on epoch: 6\n",
      "Loss: 0.0006 on epoch: 7\n",
      "Loss: 0.0005 on epoch: 8\n",
      "Loss: 0.0005 on epoch: 9\n",
      "Loss: 0.0004 on epoch: 10\n"
     ]
    }
   ],
   "source": [
    "def train_model(model_, my_train_input_, my_train_classes_, criterion_, optimizer_):\n",
    "\n",
    "    train_error = []\n",
    "    test_error = []\n",
    "    # train function\n",
    "    for epoch in range(num_epochs):\n",
    "        for i in range(int(len(my_train_input_)/batch_size)):  \n",
    "            # Move tensors to the configured device\n",
    "            images = my_train_input_.narrow(0,i*batch_size,batch_size).to(device)\n",
    "            labels = my_train_classes_.narrow(0,i*batch_size,batch_size).to(device)\n",
    "\n",
    "            # Forward pass\n",
    "            outputs = model_(images)\n",
    "            loss = criterion_(outputs, labels)\n",
    "\n",
    "            # Backward and optimize\n",
    "            optimizer_.zero_grad()\n",
    "            loss.backward()\n",
    "            optimizer_.step()\n",
    "\n",
    "        train_error.append(test_accuracy(model_, my_train_input_, my_train_classes_))\n",
    "        test_error.append(test_accuracy(model_, my_test_input, my_test_classes))\n",
    "\n",
    "        print ('Loss: {:.4f} on epoch: {}'.format(loss.item(),epoch+1))\n",
    "    return train_error, test_error\n",
    "\n",
    "train_error, test_error = train_model(model, my_train_input, my_train_classes, criterion, optimizer)"
   ]
  },
  {
   "cell_type": "code",
   "execution_count": 71,
   "metadata": {},
   "outputs": [
    {
     "data": {
      "image/png": "[encoded data removed]",
      "text/plain": [
       "<Figure size 432x288 with 1 Axes>"
      ]
     },
     "metadata": {},
     "output_type": "display_data"
    }
   ],
   "source": [
    "import matplotlib.pyplot as plt\n",
    "plt.plot(train_error, 'r--', test_error, 'b--')\n",
    "plt.ylabel('some numbers')\n",
    "plt.title(\"Train error in red, test error in blue over the epoch\")\n",
    "plt.show()"
   ]
  },
  {
   "cell_type": "code",
   "execution_count": 72,
   "metadata": {},
   "outputs": [
    {
     "data": {
      "text/plain": [
       "[88.0, 95.35, 99.25, 100.0, 100.0, 100.0, 100.0, 100.0, 100.0, 100.0]"
      ]
     },
     "execution_count": 72,
     "metadata": {},
     "output_type": "execute_result"
    }
   ],
   "source": [
    "train_error"
   ]
  },
  {
   "cell_type": "code",
   "execution_count": 78,
   "metadata": {},
   "outputs": [
    {
     "name": "stdout",
     "output_type": "stream",
     "text": [
      "Loss: 0.4528 on epoch: 1\n",
      "Loss: 0.0000 on epoch: 2\n",
      "Loss: 0.0000 on epoch: 3\n",
      "Loss: 0.0001 on epoch: 4\n",
      "Loss: 0.0000 on epoch: 5\n",
      "Loss: 0.0000 on epoch: 6\n",
      "Loss: 0.0000 on epoch: 7\n",
      "Loss: 0.0000 on epoch: 8\n",
      "Loss: 0.0000 on epoch: 9\n",
      "Loss: 0.0000 on epoch: 10\n"
     ]
    }
   ],
   "source": [
    "#as we got 100% on the train error it seems that we just leared by heart the train dataset\n",
    "# let's adding regularization:\n",
    "class NeuralNet_reg(nn.Module):\n",
    "    def __init__(self, input_size, hidden_size, num_class):\n",
    "        super(NeuralNet, self).__init__()\n",
    "        self.layer1 = nn.Linear(input_size, hidden_size) \n",
    "        self.relu = nn.ReLU()\n",
    "        self.layer2 = nn.Linear(hidden_size, num_class)  \n",
    "        self.dropout = nn.Dropout(0.75) \n",
    "    \n",
    "    def forward(self, x):\n",
    "        outputs = self.layer1(x)\n",
    "        outputs = self.relu(outputs)\n",
    "        outputs = self.layer2(outputs)\n",
    "        return outputs\n",
    "# creating neural net\n",
    "model_reg = NeuralNet(input_size, hidden_size, num_class).to(device)\n",
    "\n",
    "# CrossEntropyLoss and optimizer which minimize loss with learning rate step\n",
    "criterion_reg = nn.CrossEntropyLoss()\n",
    "optimizer_reg = torch.optim.SGD(model_reg.parameters(), lr=learning_rate) \n",
    "\n",
    "train_error, test_error = train_model(model_reg, my_train_input, my_train_classes, criterion_reg, optimizer_reg)"
   ]
  },
  {
   "cell_type": "code",
   "execution_count": 79,
   "metadata": {},
   "outputs": [
    {
     "data": {
      "image/png": "[encoded data removed]",
      "text/plain": [
       "<Figure size 432x288 with 1 Axes>"
      ]
     },
     "metadata": {},
     "output_type": "display_data"
    }
   ],
   "source": [
    "plt.plot(train_error, 'r--', test_error, 'b--')\n",
    "plt.ylabel('some numbers')\n",
    "plt.title(\"Train error in red, test error in blue over the epoch\")\n",
    "plt.show()"
   ]
  },
  {
   "cell_type": "code",
   "execution_count": 80,
   "metadata": {},
   "outputs": [
    {
     "data": {
      "text/plain": [
       "[92.05, 97.3, 98.65, 98.1, 100.0, 100.0, 100.0, 100.0, 100.0, 100.0]"
      ]
     },
     "execution_count": 80,
     "metadata": {},
     "output_type": "execute_result"
    }
   ],
   "source": [
    "train_error"
   ]
  },
  {
   "cell_type": "code",
   "execution_count": 81,
   "metadata": {},
   "outputs": [
    {
     "data": {
      "text/plain": [
       "[87.0, 90.05, 91.05, 90.3, 92.55, 92.8, 92.8, 92.85, 92.8, 92.9]"
      ]
     },
     "execution_count": 81,
     "metadata": {},
     "output_type": "execute_result"
    }
   ],
   "source": [
    "test_error"
   ]
  },
  {
   "cell_type": "markdown",
   "metadata": {},
   "source": [
    "# Testing on the 2 batches\n",
    "A model for the two batch of 1000 images"
   ]
  },
  {
   "cell_type": "code",
   "execution_count": 18,
   "metadata": {},
   "outputs": [],
   "source": [
    "my_test_input1 = test_input[:,0,:]\n",
    "my_test_input2 = test_input[:,1,:]\n",
    "my_test_classes1 = test_classes[0:1000,0]\n",
    "my_test_classes2 = test_classes[0:1000,1]"
   ]
  },
  {
   "cell_type": "code",
   "execution_count": 19,
   "metadata": {},
   "outputs": [
    {
     "data": {
      "image/png": "[encoded data removed]",
      "text/plain": [
       "<Figure size 432x288 with 6 Axes>"
      ]
     },
     "metadata": {},
     "output_type": "display_data"
    }
   ],
   "source": [
    "# verifying the digits and labels\n",
    "for i in range(6):\n",
    "  plt.subplot(2,3,i+1)\n",
    "  plt.imshow(my_test_input2[i], cmap='gray', interpolation='none')\n",
    "  plt.title(\"Value: {}\".format(my_test_classes2[i]))  \n",
    "  plt.tight_layout()\n",
    "  plt.xticks([])\n",
    "  plt.yticks([])"
   ]
  },
  {
   "cell_type": "code",
   "execution_count": 77,
   "metadata": {},
   "outputs": [
    {
     "name": "stdout",
     "output_type": "stream",
     "text": [
      "Accuracy: 92.7\n",
      "Accuracy: 92.1\n"
     ]
    }
   ],
   "source": [
    "print(\"Accuracy: {}\".format(test_accuracy(model, my_test_input1, my_test_classes1)))\n",
    "print(\"Accuracy: {}\".format(test_accuracy(model, my_test_input2, my_test_classes2)))"
   ]
  },
  {
   "cell_type": "markdown",
   "metadata": {},
   "source": [
    "# Building neural net for Digit Comparison"
   ]
  },
  {
   "cell_type": "code",
   "execution_count": 21,
   "metadata": {},
   "outputs": [
    {
     "name": "stdout",
     "output_type": "stream",
     "text": [
      "Loss: 0.0926 on epoch: 1\n",
      "Loss: 0.0589 on epoch: 6\n",
      "Loss: 0.0455 on epoch: 11\n",
      "Loss: 0.0394 on epoch: 16\n",
      "Loss: 0.0347 on epoch: 21\n"
     ]
    }
   ],
   "source": [
    "# number of epoch\n",
    "num_epochs_dc = 21\n",
    "# batch size to compute mini-batch\n",
    "batch_size_dc = 5\n",
    "# number of pixels in the image \n",
    "input_size_dc = 2\n",
    "# number of possible digit: 0 to 9 \n",
    "num_class_dc = 1\n",
    "# small step to find a minima\n",
    "learning_rate_dc = 0.003\n",
    "# hidden size\n",
    "hidden_size_dc = 200\n",
    "\n",
    "# Fully connected neural network with one hidden layer\n",
    "class NeuralNet_dc(nn.Module):\n",
    "    def __init__(self, input_size, hidden_size, num_class):\n",
    "        super(NeuralNet_dc, self).__init__()\n",
    "        self.layer1 = nn.Linear(input_size, hidden_size) \n",
    "        self.relu = nn.ReLU()\n",
    "        self.layer2 = nn.Linear(hidden_size, num_class)  \n",
    "    \n",
    "    def forward(self, x):\n",
    "        outputs = self.layer1(x)\n",
    "        outputs = self.relu(outputs)\n",
    "        outputs = self.layer2(outputs)\n",
    "        return outputs.reshape([1,batch_size_dc])[0]\n",
    "        \n",
    "    \n",
    "# creating neural net\n",
    "model_dc = NeuralNet_dc(input_size_dc, hidden_size_dc, num_class_dc).to(device)\n",
    "\n",
    "# MSELoss and optimizer which minimize loss with learning rate step\n",
    "criterion_dc = nn.MSELoss()\n",
    "optimizer_dc = torch.optim.SGD(model_dc.parameters(), lr=learning_rate_dc)  \n",
    "\n",
    "# train function\n",
    "for epoch in range(num_epochs_dc):\n",
    "    for i in range(int(len(train_classes)/batch_size_dc)):  \n",
    "        # Move tensors to the configured device\n",
    "        inputs = train_classes.narrow(0,i*batch_size_dc,batch_size_dc).to(device).float()\n",
    "        labels = train_target.narrow(0,i*batch_size_dc,batch_size_dc).to(device)\n",
    "\n",
    "        # Forward pass\n",
    "        outputs = model_dc(inputs)\n",
    "        loss = criterion_dc(outputs, labels.float())\n",
    "        \n",
    "        # Backward and optimize\n",
    "        optimizer_dc.zero_grad()\n",
    "        loss.backward()\n",
    "        optimizer_dc.step()\n",
    "    if(epoch % 5 == 0):    \n",
    "        print ('Loss: {:.4f} on epoch: {}'.format(loss.item(),epoch+1))"
   ]
  },
  {
   "cell_type": "code",
   "execution_count": 22,
   "metadata": {},
   "outputs": [
    {
     "name": "stdout",
     "output_type": "stream",
     "text": [
      "Accuracy: 100.0 %\n"
     ]
    }
   ],
   "source": [
    "# test function\n",
    "def test_accuracy_dc(model_, my_test_input_, my_test_classes_):\n",
    "    total = 0\n",
    "    well_predicted_count = 0\n",
    "    for i in range(int(len(my_test_input_)/batch_size_dc)):\n",
    "\n",
    "        inputs = my_test_input_.narrow(0,i*batch_size_dc,batch_size_dc).to(device)\n",
    "        labels = my_test_classes_.narrow(0,i*batch_size_dc,batch_size_dc).to(device)\n",
    "        total += labels.size(0)\n",
    "        \n",
    "        outputs = model_(inputs.float())\n",
    "        t = Variable(torch.Tensor([0.5]))\n",
    "        predictions = (outputs > t).float() * 1\n",
    "\n",
    "        well_predicted_count += (predictions == labels.float()).sum().item()\n",
    "    print('Accuracy: {} %'.format(100 * well_predicted_count / total))\n",
    "\n",
    "test_accuracy_dc(model_dc, test_classes, test_target)\n"
   ]
  },
  {
   "cell_type": "markdown",
   "metadata": {},
   "source": [
    "# Running both neural networks in sequence"
   ]
  },
  {
   "cell_type": "code",
   "execution_count": 82,
   "metadata": {},
   "outputs": [
    {
     "name": "stdout",
     "output_type": "stream",
     "text": [
      "Accuracy: 92.5 %\n",
      "Accuracy: 93.3 %\n"
     ]
    },
    {
     "data": {
      "text/plain": [
       "tensor([[9, 3],\n",
       "        [4, 5],\n",
       "        [6, 1],\n",
       "        ...,\n",
       "        [7, 1],\n",
       "        [8, 6],\n",
       "        [7, 9]])"
      ]
     },
     "execution_count": 82,
     "metadata": {},
     "output_type": "execute_result"
    }
   ],
   "source": [
    "# test function\n",
    "def getting_y(model_, my_test_input_, my_test_classes_):\n",
    "    total = 0\n",
    "    well_predicted_count = 0\n",
    "    y = torch.Tensor()\n",
    "    for i in range(int(len(my_test_input_)/batch_size)):\n",
    "\n",
    "        images = my_test_input_.narrow(0,i*batch_size,batch_size).reshape([batch_size,14*14]).to(device)\n",
    "        labels = my_test_classes_.narrow(0,i*batch_size,batch_size).to(device)\n",
    "        total += labels.size(0)\n",
    "\n",
    "        outputs = model_(images)\n",
    "        _, predictions = torch.max(outputs.data, 1)\n",
    "        #y += predictions\n",
    "        well_predicted_count += (predictions == labels).sum().item()\n",
    "\n",
    "    print('Accuracy: {} %'.format(100 * well_predicted_count / total))\n",
    "    y_ = model_(my_test_input_.reshape([1000,14*14]))\n",
    "    _, predictions_ = torch.max(y_.data, 1)\n",
    "    return predictions_\n",
    "\n",
    "y1 = getting_y(model_reg, my_test_input1, my_test_classes1)\n",
    "y2 = getting_y(model_reg, my_test_input2, my_test_classes2)\n",
    "y_test_classes = torch.tensor([y1.tolist(), y2.tolist()]).transpose_(0, 1)\n",
    "y_test_classes"
   ]
  },
  {
   "cell_type": "code",
   "execution_count": 83,
   "metadata": {},
   "outputs": [
    {
     "name": "stdout",
     "output_type": "stream",
     "text": [
      "Accuracy: 95.2 %\n"
     ]
    }
   ],
   "source": [
    "# test function\n",
    "def digit_comparison(model_, my_test_input_, my_test_classes_):\n",
    "    total = 0\n",
    "    well_predicted_count = 0\n",
    "    for i in range(int(len(my_test_input_)/batch_size_dc)):\n",
    "\n",
    "        inputs = my_test_input_.narrow(0,i*batch_size_dc,batch_size_dc).to(device)\n",
    "        labels = my_test_classes_.narrow(0,i*batch_size_dc,batch_size_dc).to(device)\n",
    "        total += labels.size(0)\n",
    "        \n",
    "        outputs = model_(inputs.float())\n",
    "        t = Variable(torch.Tensor([0.5]))\n",
    "        predictions = (outputs > t).float() * 1\n",
    "\n",
    "        well_predicted_count += (predictions == labels.float()).sum().item()\n",
    "    print('Accuracy: {} %'.format(100 * well_predicted_count / total))\n",
    "\n",
    "test_accuracy_dc(model_dc, y_test_classes, test_target)"
   ]
  },
  {
   "cell_type": "code",
   "execution_count": null,
   "metadata": {},
   "outputs": [],
   "source": []
  }
 ],
 "metadata": {
  "kernelspec": {
   "display_name": "Python 3",
   "language": "python",
   "name": "python3"
  },
  "language_info": {
   "codemirror_mode": {
    "name": "ipython",
    "version": 3
   },
   "file_extension": ".py",
   "mimetype": "text/x-python",
   "name": "python",
   "nbconvert_exporter": "python",
   "pygments_lexer": "ipython3",
   "version": "3.6.5"
  }
 },
 "nbformat": 4,
 "nbformat_minor": 2
}
