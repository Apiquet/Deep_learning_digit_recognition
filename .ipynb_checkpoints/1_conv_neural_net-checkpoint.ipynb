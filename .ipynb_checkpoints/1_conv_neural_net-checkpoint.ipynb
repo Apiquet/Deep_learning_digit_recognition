{
 "cells": [
  {
   "cell_type": "code",
   "execution_count": 17,
   "metadata": {},
   "outputs": [
    {
     "name": "stderr",
     "output_type": "stream",
     "text": [
      "C:\\Users\\antho\\Anaconda3\\lib\\site-packages\\torchvision\\datasets\\mnist.py:53: UserWarning: train_data has been renamed data\n",
      "  warnings.warn(\"train_data has been renamed data\")\n",
      "C:\\Users\\antho\\Anaconda3\\lib\\site-packages\\torchvision\\datasets\\mnist.py:43: UserWarning: train_labels has been renamed targets\n",
      "  warnings.warn(\"train_labels has been renamed targets\")\n",
      "C:\\Users\\antho\\Anaconda3\\lib\\site-packages\\torchvision\\datasets\\mnist.py:58: UserWarning: test_data has been renamed data\n",
      "  warnings.warn(\"test_data has been renamed data\")\n",
      "C:\\Users\\antho\\Anaconda3\\lib\\site-packages\\torchvision\\datasets\\mnist.py:48: UserWarning: test_labels has been renamed targets\n",
      "  warnings.warn(\"test_labels has been renamed targets\")\n"
     ]
    }
   ],
   "source": [
    "import torch\n",
    "import math\n",
    "\n",
    "from torch import optim\n",
    "from torch import Tensor\n",
    "from torch.autograd import Variable\n",
    "from torch import nn\n",
    "from torch.nn import functional as F\n",
    "import dlc_practical_prologue      \n",
    "size=1000;\n",
    "train_input, train_target, train_classes, test_input, test_target, test_classes = \\\n",
    "    dlc_practical_prologue.generate_pair_sets(size)\n",
    "train_input, train_target, train_classes = Variable(train_input), Variable(train_target), Variable((train_classes))\n",
    "test_input, test_target, test_classes = Variable(test_input), Variable(test_target), Variable(test_classes)\n",
    "mini_batch_size = 10\n"
   ]
  },
  {
   "cell_type": "code",
   "execution_count": 18,
   "metadata": {},
   "outputs": [
    {
     "data": {
      "image/png": "[encoded data removed]",
      "text/plain": [
       "<Figure size 432x288 with 6 Axes>"
      ]
     },
     "metadata": {},
     "output_type": "display_data"
    }
   ],
   "source": [
    "import matplotlib.pyplot as plt\n",
    "\n",
    "fig = plt.figure()\n",
    "for i in range(6):\n",
    "  plt.subplot(2,3,i+1)\n",
    "  plt.imshow(test_input[i][0], cmap='gray', interpolation='none')\n",
    "  plt.title(\"Value: {}\".format(test_classes[i][0]))  \n",
    "  plt.tight_layout()\n",
    "  plt.xticks([])\n",
    "  plt.yticks([])"
   ]
  },
  {
   "cell_type": "code",
   "execution_count": 19,
   "metadata": {},
   "outputs": [
    {
     "data": {
      "image/png": "[encoded data removed]",
      "text/plain": [
       "<Figure size 432x288 with 6 Axes>"
      ]
     },
     "metadata": {},
     "output_type": "display_data"
    }
   ],
   "source": [
    "for i in range(6):\n",
    "  plt.subplot(2,3,i+1)\n",
    "  plt.imshow(test_input[i][1], cmap='gray', interpolation='none')\n",
    "  plt.title(\"Value: {}\".format(test_classes[i][1]))  \n",
    "  plt.tight_layout()\n",
    "  plt.xticks([])\n",
    "  plt.yticks([])"
   ]
  },
  {
   "cell_type": "markdown",
   "metadata": {},
   "source": [
    "# First neural net\n",
    "Train the model on all the 2000 images in train_input"
   ]
  },
  {
   "cell_type": "code",
   "execution_count": 20,
   "metadata": {},
   "outputs": [],
   "source": [
    "my_train_input = train_input.reshape([2000,14,14])\n",
    "my_train_classes = train_classes.reshape([2000])\n",
    "my_test_input = test_input.reshape([2000,14,14])\n",
    "my_test_classes = test_classes.reshape([2000])"
   ]
  },
  {
   "cell_type": "code",
   "execution_count": 48,
   "metadata": {},
   "outputs": [],
   "source": [
    "# device\n",
    "device = torch.device('cuda' if torch.cuda.is_available() else 'cpu')\n",
    "\n",
    "# number of epoch\n",
    "num_epochs = 25\n",
    "# batch size to compute mini-batch\n",
    "batch_size = 1\n",
    "# number of pixels in the image \n",
    "input_size = 196\n",
    "# number of possible digit: 0 to 9 \n",
    "num_class = 1\n",
    "# small step to find a minima\n",
    "learning_rate = 0.001\n",
    "# hidden size\n",
    "hidden_size = 1000"
   ]
  },
  {
   "cell_type": "code",
   "execution_count": null,
   "metadata": {},
   "outputs": [],
   "source": [
    "my_test_input1 = test_input[:,0,:]\n",
    "my_test_input2 = test_input[:,1,:]\n",
    "my_test_classes1 = test_classes[0:1000,0]\n",
    "my_test_classes2 = test_classes[0:1000,1]"
   ]
  },
  {
   "cell_type": "code",
   "execution_count": 75,
   "metadata": {},
   "outputs": [],
   "source": [
    "def test_accuracy(model_, my_train_input1_, my_train_input2_, my_test_classes_, batch_size_):\n",
    "    total = 0\n",
    "    well_predicted_count = 0\n",
    "    for i in range(int(len(my_train_input1_)/batch_size_)):\n",
    "        images1 = my_train_input1_.narrow(0,i*batch_size_,batch_size_).to(device)\n",
    "        images2 = my_train_input2_.narrow(0,i*batch_size_,batch_size_).to(device)\n",
    "        labels = my_test_classes_.narrow(0,i*batch_size_,batch_size_).to(device)\n",
    "        total += labels.size(0)\n",
    "\n",
    "        predictions = model_(images1, images2, batch_size_)\n",
    "        well_predicted_count += (predictions == labels.float()).sum().item()\n",
    "\n",
    "    return 100 * well_predicted_count / total"
   ]
  },
  {
   "cell_type": "code",
   "execution_count": 76,
   "metadata": {},
   "outputs": [],
   "source": [
    "import datetime\n",
    "import time\n",
    "\n",
    "def train_model(model_, my_train_input1_, my_train_input2_, my_train_classes_, criterion_, optimizer_,num_epochs_,batch_size_):\n",
    "\n",
    "    train_error = []\n",
    "    test_error = []\n",
    "    # train function\n",
    "    for epoch in range(1, num_epochs_+1):\n",
    "        for i in range(int(len(my_train_input1_)/batch_size_)):  \n",
    "            #print(str(i) + \": 1:\" + str(datetime.datetime.utcnow()))\n",
    "            # Move tensors to the configured device\n",
    "            images1 = my_train_input1_.narrow(0,i*batch_size_,batch_size_).to(device)\n",
    "            images2 = my_train_input2_.narrow(0,i*batch_size_,batch_size_).to(device)\n",
    "            labels = my_train_classes_.narrow(0,i*batch_size_,batch_size_).to(device)\n",
    "            #print(str(i) + \": 2: \" + str(datetime.datetime.utcnow()))\n",
    "            \n",
    "            # Forward pass\n",
    "            outputs = model_(images1, images2, batch_size_)\n",
    "            #print(str(i) + \": 3: \" + str(datetime.datetime.utcnow()))\n",
    "            outputs.requires_grad=True\n",
    "            loss = criterion_(outputs, labels.float())\n",
    "            #print(str(i) + \": 4: \" + str(datetime.datetime.utcnow()))\n",
    "\n",
    "            # Backward and optimize\n",
    "            optimizer_.zero_grad()\n",
    "            loss.backward()\n",
    "            optimizer_.step()            \n",
    "            #print(str(i) + \": 5: \" + str(datetime.datetime.utcnow()))\n",
    "\n",
    "\n",
    "        train_error.append(test_accuracy(model_, my_train_input1_, my_train_input2_, my_train_classes_,batch_size_))\n",
    "        test_error.append(test_accuracy(model_, my_train_input1_, my_train_input2_, my_test_classes,batch_size_))\n",
    "        if(epoch % 5 == 0 or epoch == 1):    \n",
    "            print ('Loss: {:.4f} on epoch: {}'.format(loss.item(),epoch))\n",
    "    return train_error, test_error"
   ]
  },
  {
   "cell_type": "code",
   "execution_count": 77,
   "metadata": {},
   "outputs": [
    {
     "name": "stdout",
     "output_type": "stream",
     "text": [
      "Loss: 1.0000 on epoch: 1\n",
      "Loss: 1.0000 on epoch: 5\n",
      "Loss: 1.0000 on epoch: 10\n",
      "Loss: 1.0000 on epoch: 15\n",
      "Loss: 1.0000 on epoch: 20\n",
      "Loss: 1.0000 on epoch: 25\n"
     ]
    }
   ],
   "source": [
    "#as we got 100% on the train error it seems that we just leared by heart the train dataset\n",
    "# let's adding regularization:\n",
    "class NeuralNet(nn.Module):\n",
    "    def __init__(self, input_size, hidden_size, num_class):\n",
    "        super(NeuralNet, self).__init__()\n",
    "        self.layer1 = nn.Sequential(\n",
    "            nn.Conv2d(1, 32, kernel_size=5, stride=1, padding=2),\n",
    "            nn.ReLU(),\n",
    "            nn.MaxPool2d(kernel_size=3, stride=3))\n",
    "        self.layer2 = nn.Sequential(\n",
    "            nn.Conv2d(32, 64, kernel_size=5, stride=1, padding=2),\n",
    "            nn.ReLU(),\n",
    "            nn.MaxPool2d(kernel_size=3, stride=3))\n",
    "        self.drop_out = nn.Dropout(0.2)\n",
    "        self.fc1 = nn.Linear(64, 25)\n",
    "        self.fc2 = nn.Linear(25, 1)\n",
    "    \n",
    "    def forward(self, img1, img2, batch_size_images):\n",
    "        img1 = img1.reshape(batch_size_images,1,14,14)\n",
    "        out1 = self.layer1(img1)        \n",
    "        out1 = self.layer2(out1)\n",
    "        out1 = out1.reshape(out1.size(0), -1)\n",
    "        out1 = self.drop_out(out1)\n",
    "        out1 = self.fc1(out1)\n",
    "        out1 = self.fc2(out1)\n",
    "        \n",
    "        img2 = img2.reshape(batch_size_images,1,14,14)\n",
    "        out2 = self.layer1(img2)        \n",
    "        out2 = self.layer2(out2)\n",
    "        out2 = out2.reshape(out2.size(0), -1)\n",
    "        out2 = self.drop_out(out2)\n",
    "        out2 = self.fc1(out2)\n",
    "        out2 = self.fc2(out2)\n",
    "        return torch.tensor([return_result(out1, out2)])\n",
    "\n",
    "def return_result(input1, input2):\n",
    "    sum1 = 0\n",
    "    sum2 = 0\n",
    "    for i in range(len(input1)):\n",
    "        sum1 += input1[i].item()*i\n",
    "        sum2 += input1[i].item()*i\n",
    "    return float(sum1 > sum2)  \n",
    "# creating neural net\n",
    "model = NeuralNet(input_size, hidden_size, num_class).to(device)\n",
    "\n",
    "# CrossEntropyLoss and optimizer which minimize loss with learning rate step\n",
    "criterion = nn.MSELoss()\n",
    "optimizer = torch.optim.SGD(model.parameters(), lr=learning_rate) \n",
    "\n",
    "train_error, test_error = train_model(model, my_test_input1, my_test_input2, train_target, criterion, optimizer, num_epochs, batch_size)"
   ]
  },
  {
   "cell_type": "code",
   "execution_count": 78,
   "metadata": {},
   "outputs": [
    {
     "data": {
      "image/png": "[encoded data removed]",
      "text/plain": [
       "<Figure size 432x288 with 1 Axes>"
      ]
     },
     "metadata": {},
     "output_type": "display_data"
    }
   ],
   "source": [
    "plt.plot(train_error, 'r--', test_error, 'b--')\n",
    "plt.ylabel('some numbers')\n",
    "plt.title(\"Train error in red, test error in blue over the epoch\")\n",
    "plt.show()"
   ]
  },
  {
   "cell_type": "code",
   "execution_count": 79,
   "metadata": {},
   "outputs": [
    {
     "data": {
      "text/plain": [
       "[44.4,\n",
       " 44.4,\n",
       " 44.4,\n",
       " 44.4,\n",
       " 44.4,\n",
       " 44.4,\n",
       " 44.4,\n",
       " 44.4,\n",
       " 44.4,\n",
       " 44.4,\n",
       " 44.4,\n",
       " 44.4,\n",
       " 44.4,\n",
       " 44.4,\n",
       " 44.4,\n",
       " 44.4,\n",
       " 44.4,\n",
       " 44.4,\n",
       " 44.4,\n",
       " 44.4,\n",
       " 44.4,\n",
       " 44.4,\n",
       " 44.4,\n",
       " 44.4,\n",
       " 44.4]"
      ]
     },
     "execution_count": 79,
     "metadata": {},
     "output_type": "execute_result"
    }
   ],
   "source": [
    "train_error"
   ]
  },
  {
   "cell_type": "code",
   "execution_count": 80,
   "metadata": {},
   "outputs": [
    {
     "data": {
      "text/plain": [
       "[10.0,\n",
       " 10.0,\n",
       " 10.0,\n",
       " 10.0,\n",
       " 10.0,\n",
       " 10.0,\n",
       " 10.0,\n",
       " 10.0,\n",
       " 10.0,\n",
       " 10.0,\n",
       " 10.0,\n",
       " 10.0,\n",
       " 10.0,\n",
       " 10.0,\n",
       " 10.0,\n",
       " 10.0,\n",
       " 10.0,\n",
       " 10.0,\n",
       " 10.0,\n",
       " 10.0,\n",
       " 10.0,\n",
       " 10.0,\n",
       " 10.0,\n",
       " 10.0,\n",
       " 10.0]"
      ]
     },
     "execution_count": 80,
     "metadata": {},
     "output_type": "execute_result"
    }
   ],
   "source": [
    "test_error"
   ]
  }
 ],
 "metadata": {
  "kernelspec": {
   "display_name": "Python 3",
   "language": "python",
   "name": "python3"
  },
  "language_info": {
   "codemirror_mode": {
    "name": "ipython",
    "version": 3
   },
   "file_extension": ".py",
   "mimetype": "text/x-python",
   "name": "python",
   "nbconvert_exporter": "python",
   "pygments_lexer": "ipython3",
   "version": "3.6.5"
  }
 },
 "nbformat": 4,
 "nbformat_minor": 2
}
