{
 "cells": [
  {
   "cell_type": "code",
   "execution_count": 1,
   "metadata": {},
   "outputs": [
    {
     "name": "stderr",
     "output_type": "stream",
     "text": [
      "C:\\Users\\antho\\Anaconda3\\lib\\site-packages\\torchvision\\datasets\\mnist.py:53: UserWarning: train_data has been renamed data\n",
      "  warnings.warn(\"train_data has been renamed data\")\n",
      "C:\\Users\\antho\\Anaconda3\\lib\\site-packages\\torchvision\\datasets\\mnist.py:43: UserWarning: train_labels has been renamed targets\n",
      "  warnings.warn(\"train_labels has been renamed targets\")\n",
      "C:\\Users\\antho\\Anaconda3\\lib\\site-packages\\torchvision\\datasets\\mnist.py:58: UserWarning: test_data has been renamed data\n",
      "  warnings.warn(\"test_data has been renamed data\")\n",
      "C:\\Users\\antho\\Anaconda3\\lib\\site-packages\\torchvision\\datasets\\mnist.py:48: UserWarning: test_labels has been renamed targets\n",
      "  warnings.warn(\"test_labels has been renamed targets\")\n"
     ]
    }
   ],
   "source": [
    "import torch\n",
    "import math\n",
    "\n",
    "from torch import optim\n",
    "from torch import Tensor\n",
    "from torch.autograd import Variable\n",
    "from torch import nn\n",
    "from torch.nn import functional as F\n",
    "import dlc_practical_prologue      \n",
    "size=1000;\n",
    "train_input, train_target, train_classes, test_input, test_target, test_classes = \\\n",
    "    dlc_practical_prologue.generate_pair_sets(size)\n",
    "train_input, train_target, train_classes = Variable(train_input), Variable(train_target), Variable((train_classes))\n",
    "test_input, test_target, test_classes = Variable(test_input), Variable(test_target), Variable(test_classes)\n",
    "mini_batch_size = 10\n"
   ]
  },
  {
   "cell_type": "code",
   "execution_count": 3,
   "metadata": {},
   "outputs": [
    {
     "data": {
      "image/png": "[encoded data removed]",
      "text/plain": [
       "<Figure size 432x288 with 6 Axes>"
      ]
     },
     "metadata": {},
     "output_type": "display_data"
    }
   ],
   "source": [
    "import matplotlib.pyplot as plt\n",
    "\n",
    "fig = plt.figure()\n",
    "for i in range(6):\n",
    "  plt.subplot(2,3,i+1)\n",
    "  plt.imshow(test_input[i][0], cmap='gray', interpolation='none')\n",
    "  plt.title(\"Value: {}\".format(test_classes[i][0]))  \n",
    "  plt.tight_layout()\n",
    "  plt.xticks([])\n",
    "  plt.yticks([])"
   ]
  },
  {
   "cell_type": "code",
   "execution_count": 3,
   "metadata": {},
   "outputs": [
    {
     "data": {
      "image/png": "[encoded data removed]",
      "text/plain": [
       "<Figure size 432x288 with 6 Axes>"
      ]
     },
     "metadata": {},
     "output_type": "display_data"
    }
   ],
   "source": [
    "for i in range(6):\n",
    "  plt.subplot(2,3,i+1)\n",
    "  plt.imshow(test_input[i][1], cmap='gray', interpolation='none')\n",
    "  plt.title(\"Value: {}\".format(test_classes[i][1]))  \n",
    "  plt.tight_layout()\n",
    "  plt.xticks([])\n",
    "  plt.yticks([])"
   ]
  },
  {
   "cell_type": "markdown",
   "metadata": {},
   "source": [
    "# First neural net\n",
    "Train the model on all the 2000 images in train_input"
   ]
  },
  {
   "cell_type": "code",
   "execution_count": 4,
   "metadata": {},
   "outputs": [],
   "source": [
    "my_train_input1 = train_input[:,0,:]\n",
    "my_train_input2 = train_input[:,1,:]\n",
    "my_train_classes1 = train_classes[0:1000,0]\n",
    "my_train_classes2 = train_classes[0:1000,1]\n",
    "\n",
    "my_test_input1 = test_input[:,0,:]\n",
    "my_test_input2 = test_input[:,1,:]\n",
    "my_test_classes1 = test_classes[0:1000,0]\n",
    "my_test_classes2 = test_classes[0:1000,1]"
   ]
  },
  {
   "cell_type": "code",
   "execution_count": 5,
   "metadata": {},
   "outputs": [],
   "source": [
    "# device\n",
    "device = torch.device('cuda' if torch.cuda.is_available() else 'cpu')\n",
    "\n",
    "# number of epoch\n",
    "num_epochs = 25\n",
    "# batch size to compute mini-batch\n",
    "batch_size = 2\n",
    "# number of pixels in the image \n",
    "input_size = 10\n",
    "# number of possible digit: 0 to 9 \n",
    "num_class = 2\n",
    "# small step to find a minima\n",
    "learning_rate = 0.001\n",
    "# hidden size\n",
    "hidden_size = 1000"
   ]
  },
  {
   "cell_type": "code",
   "execution_count": 6,
   "metadata": {},
   "outputs": [],
   "source": [
    "def test_accuracy(model_, my_test_input1_, my_test_input2_, test_target_):\n",
    "    total = my_test_input1_.size(0)\n",
    "    out1, out2, result = model_(my_test_input1_, my_test_input2_, total)\n",
    "\n",
    "    _, predictions1 = torch.max(out1.data, 1)\n",
    "    _, predictions2 = torch.max(out2.data, 1)\n",
    "    predictions = (predictions1 <= predictions2).long()\n",
    "\n",
    "    well_predicted_count = (predictions == test_target_).sum().item()\n",
    "\n",
    "    return 1 - well_predicted_count / total"
   ]
  },
  {
   "cell_type": "code",
   "execution_count": 7,
   "metadata": {},
   "outputs": [],
   "source": [
    "import datetime\n",
    "import time\n",
    "\n",
    "def train_model(model_, my_train_input1_, my_train_input2_, my_test_classes1, my_test_classes2, train_target_, criterion_, optimizer_,num_epochs_,batch_size_):\n",
    "\n",
    "    train_error = []\n",
    "    test_error = []\n",
    "    # train function\n",
    "    \n",
    "    lambda_ = lambda epoch: 0.95 ** epoch\n",
    "    scheduler = torch.optim.lr_scheduler.LambdaLR(optimizer_, lr_lambda=lambda_)\n",
    "    \n",
    "    for epoch in range(1, num_epochs_+1):\n",
    "        for i in range(int(len(my_train_input1_)/batch_size_)):  \n",
    "            # Move tensors to the configured device\n",
    "            images1 = my_train_input1_.narrow(0,i*batch_size_,batch_size_).to(device)\n",
    "            images2 = my_train_input2_.narrow(0,i*batch_size_,batch_size_).to(device)\n",
    "            labels1 = my_test_classes1.narrow(0,i*batch_size_,batch_size_).to(device)\n",
    "            labels2 = my_test_classes2.narrow(0,i*batch_size_,batch_size_).to(device)\n",
    "            target_labels = train_target_.narrow(0,i*batch_size_,batch_size_).to(device)\n",
    "            \n",
    "            # Forward pass\n",
    "            out1, out2, result = model_(images1, images2, batch_size_)\n",
    "            #result.requires_grad=True\n",
    "            loss1 = criterion_(out1, labels1)\n",
    "            loss2 = criterion_(out2, labels2)\n",
    "            \n",
    "            \"\"\"_, predictions1 = torch.max(out1.data, 1)\n",
    "            _, predictions2 = torch.max(out2.data, 1)\n",
    "            predictions = (predictions1 >= predictions2).long()\"\"\"\n",
    "            \n",
    "            if(target_labels[0].item() == 1):\n",
    "                target = torch.tensor([0, 1])\n",
    "            else:\n",
    "                target = torch.tensor([1., 0.])\n",
    "\n",
    "            criterion3 = nn.MSELoss()\n",
    "            loss3 = criterion3(result, target.float())\n",
    "            real_loss = loss1 + loss2 + loss3\n",
    "\n",
    "            # Backward and optimize\n",
    "            optimizer_.zero_grad()\n",
    "            real_loss.backward()\n",
    "            optimizer_.step()            \n",
    "\n",
    "\n",
    "        scheduler.step()\n",
    "        train_error.append(test_accuracy(model_, my_train_input1_, my_train_input2_, train_target))\n",
    "        test_error.append(test_accuracy(model_, my_test_input1, my_test_input2, test_target))\n",
    "        if(epoch % 5 == 0 or epoch == 1):    \n",
    "            print ('Loss: {:.4f} on epoch: {}, train error: {}, test error: {}'.format(real_loss.item(),epoch,train_error[-1],test_error[-1]))\n",
    "    return train_error, test_error"
   ]
  },
  {
   "cell_type": "code",
   "execution_count": 8,
   "metadata": {},
   "outputs": [
    {
     "name": "stderr",
     "output_type": "stream",
     "text": [
      "C:\\Users\\antho\\Anaconda3\\lib\\site-packages\\ipykernel_launcher.py:42: UserWarning: Implicit dimension choice for softmax has been deprecated. Change the call to include dim=X as an argument.\n"
     ]
    },
    {
     "name": "stdout",
     "output_type": "stream",
     "text": [
      "Loss: 0.5193 on epoch: 1, train error: 0.18300000000000005, test error: 0.21299999999999997\n",
      "Loss: 0.5045 on epoch: 5, train error: 0.030000000000000027, test error: 0.07699999999999996\n",
      "Loss: 0.5256 on epoch: 10, train error: 0.01100000000000001, test error: 0.05300000000000005\n",
      "Loss: 0.5041 on epoch: 15, train error: 0.014000000000000012, test error: 0.04300000000000004\n",
      "Loss: 0.5906 on epoch: 20, train error: 0.008000000000000007, test error: 0.04400000000000004\n",
      "Loss: 0.4965 on epoch: 25, train error: 0.0020000000000000018, test error: 0.038000000000000034\n"
     ]
    }
   ],
   "source": [
    "#as we got 100% on the train error it seems that we just leared by heart the train dataset\n",
    "# let's adding regularization:\n",
    "class NeuralNet(nn.Module):\n",
    "    def __init__(self, input_size, hidden_size, num_class):\n",
    "        super(NeuralNet, self).__init__()\n",
    "        self.layer1 = nn.Sequential(\n",
    "            nn.Conv2d(1, 64, kernel_size=5, stride=1, padding=2),\n",
    "            nn.ReLU(),\n",
    "            nn.MaxPool2d(kernel_size=3, stride=3))\n",
    "        self.layer2 = nn.Sequential(\n",
    "            nn.Conv2d(64, 128, kernel_size=5, stride=1, padding=2),\n",
    "            nn.ReLU(),\n",
    "            nn.MaxPool2d(kernel_size=3, stride=3))\n",
    "        self.drop_out = nn.Dropout(0.2)\n",
    "        self.fc1 = nn.Linear(128, 50)\n",
    "        self.fc2 = nn.Linear(50, 10)\n",
    "        \n",
    "        self.layer1_comp = nn.Linear(input_size, hidden_size)\n",
    "        self.relu = nn.Softmax()\n",
    "        self.layer2_comp = nn.Linear(hidden_size, 2)\n",
    "    \n",
    "    def forward(self, img1, img2, batch_size_images):\n",
    "        img1 = img1.reshape(batch_size_images,1,14,14)\n",
    "        out1 = self.layer1(img1)        \n",
    "        out1 = self.layer2(out1)\n",
    "        out1 = out1.reshape(out1.size(0), -1)\n",
    "        out1 = self.drop_out(out1)\n",
    "        out1 = self.fc1(out1)\n",
    "        out1 = self.fc2(out1)\n",
    "        \n",
    "        img2 = img2.reshape(batch_size_images,1,14,14)\n",
    "        out2 = self.layer1(img2)        \n",
    "        out2 = self.layer2(out2)\n",
    "        out2 = out2.reshape(out2.size(0), -1)\n",
    "        out2 = self.drop_out(out2)\n",
    "        out2 = self.fc1(out2)\n",
    "        out2 = self.fc2(out2)\n",
    "\n",
    "        result = torch.cat((out1, out2),0)\n",
    "        \n",
    "        result = self.layer1_comp(result)\n",
    "        result = self.relu(result)\n",
    "        result = self.layer2_comp(result)\n",
    "        result = result[0] - result[1]\n",
    "        return out1, out2, result\n",
    "  \n",
    "# creating neural net\n",
    "model = NeuralNet(input_size, hidden_size, num_class).to(device)\n",
    "\n",
    "# CrossEntropyLoss and optimizer which minimize loss with learning rate step\n",
    "criterion = nn.CrossEntropyLoss()\n",
    "\n",
    "optimizer = torch.optim.SGD(model.parameters(), lr=learning_rate) \n",
    "\n",
    "train_error, test_error = train_model(model, my_train_input1, my_train_input2, my_train_classes1, my_train_classes2, train_target, criterion, optimizer, num_epochs, 1)"
   ]
  },
  {
   "cell_type": "code",
   "execution_count": 9,
   "metadata": {},
   "outputs": [
    {
     "data": {
      "image/png": "[encoded data removed]",
      "text/plain": [
       "<Figure size 432x288 with 1 Axes>"
      ]
     },
     "metadata": {},
     "output_type": "display_data"
    }
   ],
   "source": [
    "plt.plot(train_error, 'r--', test_error, 'b--')\n",
    "plt.ylabel('some numbers')\n",
    "plt.title(\"Train error in red, test error in blue over the epoch\")\n",
    "plt.show()"
   ]
  },
  {
   "cell_type": "code",
   "execution_count": 10,
   "metadata": {},
   "outputs": [
    {
     "data": {
      "text/plain": [
       "[0.18300000000000005,\n",
       " 0.07299999999999995,\n",
       " 0.06000000000000005,\n",
       " 0.05400000000000005,\n",
       " 0.030000000000000027,\n",
       " 0.027000000000000024,\n",
       " 0.02200000000000002,\n",
       " 0.019000000000000017,\n",
       " 0.019000000000000017,\n",
       " 0.01100000000000001,\n",
       " 0.016000000000000014,\n",
       " 0.01100000000000001,\n",
       " 0.01100000000000001,\n",
       " 0.010000000000000009,\n",
       " 0.014000000000000012,\n",
       " 0.013000000000000012,\n",
       " 0.006000000000000005,\n",
       " 0.0020000000000000018,\n",
       " 0.0040000000000000036,\n",
       " 0.008000000000000007,\n",
       " 0.006000000000000005,\n",
       " 0.008000000000000007,\n",
       " 0.0,\n",
       " 0.006000000000000005,\n",
       " 0.0020000000000000018]"
      ]
     },
     "execution_count": 10,
     "metadata": {},
     "output_type": "execute_result"
    }
   ],
   "source": [
    "train_error"
   ]
  },
  {
   "cell_type": "code",
   "execution_count": 12,
   "metadata": {},
   "outputs": [
    {
     "name": "stdout",
     "output_type": "stream",
     "text": [
      "Accuracy: 0.966\n"
     ]
    }
   ],
   "source": [
    "print(\"Accuracy: {}\".format(1-min(test_error)))"
   ]
  },
  {
   "cell_type": "code",
   "execution_count": null,
   "metadata": {},
   "outputs": [],
   "source": []
  }
 ],
 "metadata": {
  "kernelspec": {
   "display_name": "Python 3",
   "language": "python",
   "name": "python3"
  },
  "language_info": {
   "codemirror_mode": {
    "name": "ipython",
    "version": 3
   },
   "file_extension": ".py",
   "mimetype": "text/x-python",
   "name": "python",
   "nbconvert_exporter": "python",
   "pygments_lexer": "ipython3",
   "version": "3.6.5"
  }
 },
 "nbformat": 4,
 "nbformat_minor": 2
}
